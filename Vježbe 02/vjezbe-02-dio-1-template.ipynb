{
 "cells": [
  {
   "cell_type": "markdown",
   "metadata": {},
   "source": [
    "# Vježbe 2 - dio 1\n",
    " - Analiza domaće zadaće\n",
    " - Polinomna regresija\n",
    " - Nove loss funkcije"
   ]
  },
  {
   "cell_type": "code",
   "execution_count": 80,
   "metadata": {},
   "outputs": [],
   "source": [
    "import pandas as pd\n",
    "import numpy as np\n",
    "import matplotlib.pyplot as plt\n",
    "\n",
    "from sklearn.model_selection import train_test_split\n",
    "from sklearn import preprocessing\n",
    "from sklearn.linear_model import LinearRegression\n",
    "\n",
    "np.random.seed(123)\n",
    "plt.rcParams[\"figure.figsize\"] = (10, 10)"
   ]
  },
  {
   "cell_type": "markdown",
   "metadata": {},
   "source": [
    "## Zadatak 1 (5)\n",
    "Zadana je model-funkcija\n",
    "$$\n",
    "h_{\\Theta}(x) = \\theta_0 + \\sum_{i=1}^n\\theta_ix_i.\n",
    "$$\n",
    "Dokažite da je funkcija\n",
    "$$\n",
    "J(\\Theta) = \\frac{1}{2m}\\sum\\limits_{i=1}^{m}(h_{\\Theta}(x^{(i)})-y^{(i)})^2\n",
    "$$\n",
    "konveksna.\n",
    "\n",
    "(**Hint**: kakvo svojstvo ima Hesijan konveksne funkcije?)\n",
    "\n",
    "---"
   ]
  },
  {
   "cell_type": "markdown",
   "metadata": {},
   "source": [
    "## Zadatak 2 (10)\n",
    "Izračunajte gradijent funkcije \n",
    "$$J(\\Theta) = \\frac{1}{2m}\\sum\\limits_{i=1}^{m}(h_{\\Theta}(x^{(i)})-y^{(i)})^2$$\n",
    "za istu model funkciju $h_{\\Theta}$ iz zadatka 1.\n",
    "\n",
    "---"
   ]
  },
  {
   "cell_type": "markdown",
   "metadata": {},
   "source": [
    "## Zadatak 3 (15)\n",
    "Zadani su ulazni podaci $X\\in \\mathbb{R}^{m \\times n}$ i pripadne izlazne vrijednosti $y\\in\\mathbb{R}^{m}$. Na ovim podacima možemo provesti proces učenja modela linearne regresije.\n",
    "\n",
    "Učenje se svodi na minimizaciju funkcije $J(\\theta) = \\frac{1}{2m}\\sum\\limits_{i=1}^{m}(h_{\\theta}(x^{(i)})-y^{(i)})^2$, a do rješenja dolazimo primjenom gradijentne metode.\n",
    "\n",
    "Implementirajte gradijentnu metodu za učenje modela linearne regresije u općenitom slučaju kada su ulazni podaci dimenzije $X\\in \\mathbb{R}^{m\\times n}$.<br>\n",
    "\n",
    "Dodajte sljedeću mogućnost svojoj implementaciji gradijentne metode: crtanje grafa ovisnosti funkcije troška $J(\\theta)$ o iteracijama. (U svakoj iteraciji spremite vrijednost funkcije troška)"
   ]
  },
  {
   "cell_type": "code",
   "execution_count": 3,
   "metadata": {},
   "outputs": [],
   "source": [
    "def h(x, theta):\n",
    "    return np.dot(theta, x)\n",
    "\n",
    "def h_vectorised(X, theta):\n",
    "    return (X @ theta)\n",
    "\n",
    "def J(X, y, theta):\n",
    "    m = X.shape[0]\n",
    "    return (0.5 / m) * np.sum(np.square(h_vectorised(X, theta) - y))\n",
    "\n",
    "def gradient_without_ones(X, y, theta):\n",
    "    \"\"\"\n",
    "    Pretpostavljamo da je X dimenzije m x n\n",
    "    Bez jedinica u prvom stupcu\n",
    "    \"\"\"\n",
    "    m, n = X.shape\n",
    "    grad = np.zeros(n + 1)\n",
    "    for j in range(n + 1):\n",
    "        for i in range(m):\n",
    "            if j == 0:\n",
    "                grad[j] += (h(X[i], theta) - y[i])\n",
    "            else:\n",
    "                grad[j] += (h(X[i], theta) - y[i]) * X[i][j]\n",
    "        grad[j] *= (1.0 / m)\n",
    "    return grad\n",
    "    \n",
    "def gradient(X, y, theta):\n",
    "    \"\"\"\n",
    "    Pretpostavljamo da je X dimenzije m x (n+1)\n",
    "    tj. X je matrica dizajna\n",
    "    \"\"\"\n",
    "    m, n = X.shape\n",
    "    return (1.0 / m) * ((h_vectorised(X, theta) - y).T @ X).reshape(-1, 1)\n",
    "\n",
    "def gradient_method(X, y, learning_rate=0.1, iterations=500):\n",
    "    print(f'Starting gradient descent with {iterations} iterations and learning rate {learning_rate}')\n",
    "    theta = np.zeros(X.shape[1]).reshape(-1, 1)\n",
    "    loss = np.empty(iterations)\n",
    "    for it in range(iterations):\n",
    "        loss[it] = J(X, y, theta)\n",
    "        grad = gradient(X, y, theta)\n",
    "        theta = np.subtract(theta, learning_rate * grad)\n",
    "        if it % (iterations // 10) == (iterations // 10 - 1):\n",
    "            print(f'Iteration {it + 1}\\ngrad = {grad.squeeze()}\\ntheta = {theta.squeeze()}\\nloss = {loss[it]}')\n",
    "    return theta, loss\n",
    "\n",
    "def draw(J_values):\n",
    "    iterations = J_values.shape[0]\n",
    "    plt.plot(np.arange(iterations), J_values)"
   ]
  },
  {
   "cell_type": "markdown",
   "metadata": {},
   "source": [
    "## Zadatak 4 (15)\n",
    "U datoteci house.csv se nalaze podaci o nekretninama, koji sadrže različite karakteristike nekretnina poput površine ili broja soba te cijenu. Cilj narednih zadataka će biti uspostaviti linearnu regresiju između različitih karakteristika kuće u svrhu predviđanja cijene nekretnine. \n",
    "\n",
    "Kao ulaznu varijablu uzmite sqft_living, a kao izlaznu varijablu price. \n",
    "\n",
    "1. Učitajte podatke koji su vam dani u datoteci *house.csv*. \n",
    "\n",
    "2. Konstruirajte *numpy.array*-e koji sadrže matricu dizajna $X\\in \\mathbb{R}^{m\\times (n+1)}$ i vektor izlaznih podataka $y \\in \\mathbb{R}^{m}$ (ovdje je $n=1$). \n",
    "\n",
    "3. Primjenom proizvoljne metode razdvojite skup podataka na skup za treniranje i skup za testiranje modela. (npr. [train_test_split](https://scikit-learn.org/stable/modules/generated/sklearn.model_selection.train_test_split.html) kao na vježbama). Na taj način ćete dobiti *numpy.array*-e $X_{train}$, $y_{train}$, $X_{test}$ te $y_{test}$. Neka se u skupu za treniranje nalazi $80\\%$ podataka.\n",
    "\n",
    "4. Skalirajte podatke koristeći metodu objašnjenu na [linku](https://scikit-learn.org/stable/modules/generated/sklearn.preprocessing.StandardScaler.html#sklearn.preprocessing.StandardScaler). Scaler trebate fitati na skupu za treniranje i isti Scaler iskoristiti za skaliranje testnog skupa.\n",
    "\n",
    "5. Koristeći proizvoljnu biblioteku vizualizirajte odnos varijable ulaznih i izlaznih podataka. \n",
    "\n",
    "6. Pokrenite gradijentnu metodu koju ste implementirali u prethodnom zadatku i pomoću nje odredite parametre $\\theta_0$ i $\\theta_1$. (Stopu učenja i broj iteracija odredite sami)\n",
    "\n",
    "7. Pravac određen izračunatim  parametrima $\\theta_0$ i $\\theta_1$ prikažite na grafu iz podzadatka 5.\n",
    "\n",
    "8. Nacrtajte  graf promjene funkcije troška $J(\\Theta)$ kroz iteracije.\n",
    "\n",
    "9. Na podacima za testiranje provedite testirajte svoj model tako da izračunate pogrešku kao što smo pokazali na vježbama. Ispišite vrijednost pogreške.\n",
    "\n",
    "11. Za podatke $X_{train}$ i $y_{train}$ odredite opet parametre $\\theta_0$ i $\\theta_1$, ali koristeći [gotovu implementaciju](https://scikit-learn.org/stable/modules/generated/sklearn.linear_model.LinearRegression.html) iz scikit-learn biblioteke. (Pazite na dimenzije)\n",
    "\n",
    "12. Na učitanim podacima za testiranje provedite testiranje ovog modela kao što smo pokazali na vježbama. Ispišite vrijednost pogreške.\n",
    "\n",
    "13. Razlikuju li se model koji ste dobili koristeći vašu implementaciju gradijentne metode i model koji ste dobili ste dobili koristeći gotovu implementaciju iz *scikit-learn* biblioteke? \n",
    "\n",
    "14. Za podatke $X$ i $Y$ učitane iz datoteke *house_train.csv* odredite opet parametre $\\theta_0, \\theta_1$, ali koristeći sustav normalnih jednadžbi. "
   ]
  },
  {
   "cell_type": "code",
   "execution_count": 4,
   "metadata": {},
   "outputs": [
    {
     "data": {
      "text/html": [
       "<div>\n",
       "<style scoped>\n",
       "    .dataframe tbody tr th:only-of-type {\n",
       "        vertical-align: middle;\n",
       "    }\n",
       "\n",
       "    .dataframe tbody tr th {\n",
       "        vertical-align: top;\n",
       "    }\n",
       "\n",
       "    .dataframe thead th {\n",
       "        text-align: right;\n",
       "    }\n",
       "</style>\n",
       "<table border=\"1\" class=\"dataframe\">\n",
       "  <thead>\n",
       "    <tr style=\"text-align: right;\">\n",
       "      <th></th>\n",
       "      <th>Unnamed: 0</th>\n",
       "      <th>id</th>\n",
       "      <th>date</th>\n",
       "      <th>price</th>\n",
       "      <th>bedrooms</th>\n",
       "      <th>bathrooms</th>\n",
       "      <th>sqft_living</th>\n",
       "      <th>sqft_lot</th>\n",
       "      <th>floors</th>\n",
       "      <th>waterfront</th>\n",
       "      <th>...</th>\n",
       "      <th>grade</th>\n",
       "      <th>sqft_above</th>\n",
       "      <th>sqft_basement</th>\n",
       "      <th>yr_built</th>\n",
       "      <th>yr_renovated</th>\n",
       "      <th>zipcode</th>\n",
       "      <th>lat</th>\n",
       "      <th>long</th>\n",
       "      <th>sqft_living15</th>\n",
       "      <th>sqft_lot15</th>\n",
       "    </tr>\n",
       "  </thead>\n",
       "  <tbody>\n",
       "    <tr>\n",
       "      <th>0</th>\n",
       "      <td>12697</td>\n",
       "      <td>203101065</td>\n",
       "      <td>20140528T000000</td>\n",
       "      <td>420000.0</td>\n",
       "      <td>3</td>\n",
       "      <td>1.75</td>\n",
       "      <td>1820</td>\n",
       "      <td>22320</td>\n",
       "      <td>1.0</td>\n",
       "      <td>0</td>\n",
       "      <td>...</td>\n",
       "      <td>7</td>\n",
       "      <td>1250</td>\n",
       "      <td>570</td>\n",
       "      <td>1977</td>\n",
       "      <td>0</td>\n",
       "      <td>98053</td>\n",
       "      <td>47.6441</td>\n",
       "      <td>-121.960</td>\n",
       "      <td>2030</td>\n",
       "      <td>22320</td>\n",
       "    </tr>\n",
       "    <tr>\n",
       "      <th>1</th>\n",
       "      <td>6533</td>\n",
       "      <td>8645530010</td>\n",
       "      <td>20140515T000000</td>\n",
       "      <td>225000.0</td>\n",
       "      <td>3</td>\n",
       "      <td>2.00</td>\n",
       "      <td>1400</td>\n",
       "      <td>7384</td>\n",
       "      <td>1.0</td>\n",
       "      <td>0</td>\n",
       "      <td>...</td>\n",
       "      <td>7</td>\n",
       "      <td>1150</td>\n",
       "      <td>250</td>\n",
       "      <td>1979</td>\n",
       "      <td>0</td>\n",
       "      <td>98058</td>\n",
       "      <td>47.4655</td>\n",
       "      <td>-122.174</td>\n",
       "      <td>1820</td>\n",
       "      <td>7992</td>\n",
       "    </tr>\n",
       "    <tr>\n",
       "      <th>2</th>\n",
       "      <td>18268</td>\n",
       "      <td>2422000067</td>\n",
       "      <td>20150427T000000</td>\n",
       "      <td>230000.0</td>\n",
       "      <td>3</td>\n",
       "      <td>2.25</td>\n",
       "      <td>1830</td>\n",
       "      <td>11331</td>\n",
       "      <td>1.0</td>\n",
       "      <td>0</td>\n",
       "      <td>...</td>\n",
       "      <td>7</td>\n",
       "      <td>1250</td>\n",
       "      <td>580</td>\n",
       "      <td>1965</td>\n",
       "      <td>0</td>\n",
       "      <td>98001</td>\n",
       "      <td>47.2899</td>\n",
       "      <td>-122.287</td>\n",
       "      <td>2240</td>\n",
       "      <td>16433</td>\n",
       "    </tr>\n",
       "    <tr>\n",
       "      <th>3</th>\n",
       "      <td>33</td>\n",
       "      <td>7589200193</td>\n",
       "      <td>20141110T000000</td>\n",
       "      <td>535000.0</td>\n",
       "      <td>3</td>\n",
       "      <td>1.00</td>\n",
       "      <td>1090</td>\n",
       "      <td>3000</td>\n",
       "      <td>1.5</td>\n",
       "      <td>0</td>\n",
       "      <td>...</td>\n",
       "      <td>8</td>\n",
       "      <td>1090</td>\n",
       "      <td>0</td>\n",
       "      <td>1929</td>\n",
       "      <td>0</td>\n",
       "      <td>98117</td>\n",
       "      <td>47.6889</td>\n",
       "      <td>-122.375</td>\n",
       "      <td>1570</td>\n",
       "      <td>5080</td>\n",
       "    </tr>\n",
       "    <tr>\n",
       "      <th>4</th>\n",
       "      <td>12229</td>\n",
       "      <td>1473060030</td>\n",
       "      <td>20140709T000000</td>\n",
       "      <td>525000.0</td>\n",
       "      <td>4</td>\n",
       "      <td>2.50</td>\n",
       "      <td>3670</td>\n",
       "      <td>9958</td>\n",
       "      <td>2.0</td>\n",
       "      <td>0</td>\n",
       "      <td>...</td>\n",
       "      <td>10</td>\n",
       "      <td>3670</td>\n",
       "      <td>0</td>\n",
       "      <td>2005</td>\n",
       "      <td>0</td>\n",
       "      <td>98058</td>\n",
       "      <td>47.4617</td>\n",
       "      <td>-122.159</td>\n",
       "      <td>3300</td>\n",
       "      <td>10679</td>\n",
       "    </tr>\n",
       "    <tr>\n",
       "      <th>...</th>\n",
       "      <td>...</td>\n",
       "      <td>...</td>\n",
       "      <td>...</td>\n",
       "      <td>...</td>\n",
       "      <td>...</td>\n",
       "      <td>...</td>\n",
       "      <td>...</td>\n",
       "      <td>...</td>\n",
       "      <td>...</td>\n",
       "      <td>...</td>\n",
       "      <td>...</td>\n",
       "      <td>...</td>\n",
       "      <td>...</td>\n",
       "      <td>...</td>\n",
       "      <td>...</td>\n",
       "      <td>...</td>\n",
       "      <td>...</td>\n",
       "      <td>...</td>\n",
       "      <td>...</td>\n",
       "      <td>...</td>\n",
       "      <td>...</td>\n",
       "    </tr>\n",
       "    <tr>\n",
       "      <th>21608</th>\n",
       "      <td>21604</td>\n",
       "      <td>9834201367</td>\n",
       "      <td>20150126T000000</td>\n",
       "      <td>429000.0</td>\n",
       "      <td>3</td>\n",
       "      <td>2.00</td>\n",
       "      <td>1490</td>\n",
       "      <td>1126</td>\n",
       "      <td>3.0</td>\n",
       "      <td>0</td>\n",
       "      <td>...</td>\n",
       "      <td>8</td>\n",
       "      <td>1490</td>\n",
       "      <td>0</td>\n",
       "      <td>2014</td>\n",
       "      <td>0</td>\n",
       "      <td>98144</td>\n",
       "      <td>47.5699</td>\n",
       "      <td>-122.288</td>\n",
       "      <td>1400</td>\n",
       "      <td>1230</td>\n",
       "    </tr>\n",
       "    <tr>\n",
       "      <th>21609</th>\n",
       "      <td>21606</td>\n",
       "      <td>7936000429</td>\n",
       "      <td>20150326T000000</td>\n",
       "      <td>1007500.0</td>\n",
       "      <td>4</td>\n",
       "      <td>3.50</td>\n",
       "      <td>3510</td>\n",
       "      <td>7200</td>\n",
       "      <td>2.0</td>\n",
       "      <td>0</td>\n",
       "      <td>...</td>\n",
       "      <td>9</td>\n",
       "      <td>2600</td>\n",
       "      <td>910</td>\n",
       "      <td>2009</td>\n",
       "      <td>0</td>\n",
       "      <td>98136</td>\n",
       "      <td>47.5537</td>\n",
       "      <td>-122.398</td>\n",
       "      <td>2050</td>\n",
       "      <td>6200</td>\n",
       "    </tr>\n",
       "    <tr>\n",
       "      <th>21610</th>\n",
       "      <td>21607</td>\n",
       "      <td>2997800021</td>\n",
       "      <td>20150219T000000</td>\n",
       "      <td>475000.0</td>\n",
       "      <td>3</td>\n",
       "      <td>2.50</td>\n",
       "      <td>1310</td>\n",
       "      <td>1294</td>\n",
       "      <td>2.0</td>\n",
       "      <td>0</td>\n",
       "      <td>...</td>\n",
       "      <td>8</td>\n",
       "      <td>1180</td>\n",
       "      <td>130</td>\n",
       "      <td>2008</td>\n",
       "      <td>0</td>\n",
       "      <td>98116</td>\n",
       "      <td>47.5773</td>\n",
       "      <td>-122.409</td>\n",
       "      <td>1330</td>\n",
       "      <td>1265</td>\n",
       "    </tr>\n",
       "    <tr>\n",
       "      <th>21611</th>\n",
       "      <td>21608</td>\n",
       "      <td>263000018</td>\n",
       "      <td>20140521T000000</td>\n",
       "      <td>360000.0</td>\n",
       "      <td>3</td>\n",
       "      <td>2.50</td>\n",
       "      <td>1530</td>\n",
       "      <td>1131</td>\n",
       "      <td>3.0</td>\n",
       "      <td>0</td>\n",
       "      <td>...</td>\n",
       "      <td>8</td>\n",
       "      <td>1530</td>\n",
       "      <td>0</td>\n",
       "      <td>2009</td>\n",
       "      <td>0</td>\n",
       "      <td>98103</td>\n",
       "      <td>47.6993</td>\n",
       "      <td>-122.346</td>\n",
       "      <td>1530</td>\n",
       "      <td>1509</td>\n",
       "    </tr>\n",
       "    <tr>\n",
       "      <th>21612</th>\n",
       "      <td>21612</td>\n",
       "      <td>1523300157</td>\n",
       "      <td>20141015T000000</td>\n",
       "      <td>325000.0</td>\n",
       "      <td>2</td>\n",
       "      <td>0.75</td>\n",
       "      <td>1020</td>\n",
       "      <td>1076</td>\n",
       "      <td>2.0</td>\n",
       "      <td>0</td>\n",
       "      <td>...</td>\n",
       "      <td>7</td>\n",
       "      <td>1020</td>\n",
       "      <td>0</td>\n",
       "      <td>2008</td>\n",
       "      <td>0</td>\n",
       "      <td>98144</td>\n",
       "      <td>47.5941</td>\n",
       "      <td>-122.299</td>\n",
       "      <td>1020</td>\n",
       "      <td>1357</td>\n",
       "    </tr>\n",
       "  </tbody>\n",
       "</table>\n",
       "<p>21613 rows × 22 columns</p>\n",
       "</div>"
      ],
      "text/plain": [
       "       Unnamed: 0          id             date      price  bedrooms  \\\n",
       "0           12697   203101065  20140528T000000   420000.0         3   \n",
       "1            6533  8645530010  20140515T000000   225000.0         3   \n",
       "2           18268  2422000067  20150427T000000   230000.0         3   \n",
       "3              33  7589200193  20141110T000000   535000.0         3   \n",
       "4           12229  1473060030  20140709T000000   525000.0         4   \n",
       "...           ...         ...              ...        ...       ...   \n",
       "21608       21604  9834201367  20150126T000000   429000.0         3   \n",
       "21609       21606  7936000429  20150326T000000  1007500.0         4   \n",
       "21610       21607  2997800021  20150219T000000   475000.0         3   \n",
       "21611       21608   263000018  20140521T000000   360000.0         3   \n",
       "21612       21612  1523300157  20141015T000000   325000.0         2   \n",
       "\n",
       "       bathrooms  sqft_living  sqft_lot  floors  waterfront  ...  grade  \\\n",
       "0           1.75         1820     22320     1.0           0  ...      7   \n",
       "1           2.00         1400      7384     1.0           0  ...      7   \n",
       "2           2.25         1830     11331     1.0           0  ...      7   \n",
       "3           1.00         1090      3000     1.5           0  ...      8   \n",
       "4           2.50         3670      9958     2.0           0  ...     10   \n",
       "...          ...          ...       ...     ...         ...  ...    ...   \n",
       "21608       2.00         1490      1126     3.0           0  ...      8   \n",
       "21609       3.50         3510      7200     2.0           0  ...      9   \n",
       "21610       2.50         1310      1294     2.0           0  ...      8   \n",
       "21611       2.50         1530      1131     3.0           0  ...      8   \n",
       "21612       0.75         1020      1076     2.0           0  ...      7   \n",
       "\n",
       "       sqft_above  sqft_basement  yr_built  yr_renovated  zipcode      lat  \\\n",
       "0            1250            570      1977             0    98053  47.6441   \n",
       "1            1150            250      1979             0    98058  47.4655   \n",
       "2            1250            580      1965             0    98001  47.2899   \n",
       "3            1090              0      1929             0    98117  47.6889   \n",
       "4            3670              0      2005             0    98058  47.4617   \n",
       "...           ...            ...       ...           ...      ...      ...   \n",
       "21608        1490              0      2014             0    98144  47.5699   \n",
       "21609        2600            910      2009             0    98136  47.5537   \n",
       "21610        1180            130      2008             0    98116  47.5773   \n",
       "21611        1530              0      2009             0    98103  47.6993   \n",
       "21612        1020              0      2008             0    98144  47.5941   \n",
       "\n",
       "          long  sqft_living15  sqft_lot15  \n",
       "0     -121.960           2030       22320  \n",
       "1     -122.174           1820        7992  \n",
       "2     -122.287           2240       16433  \n",
       "3     -122.375           1570        5080  \n",
       "4     -122.159           3300       10679  \n",
       "...        ...            ...         ...  \n",
       "21608 -122.288           1400        1230  \n",
       "21609 -122.398           2050        6200  \n",
       "21610 -122.409           1330        1265  \n",
       "21611 -122.346           1530        1509  \n",
       "21612 -122.299           1020        1357  \n",
       "\n",
       "[21613 rows x 22 columns]"
      ]
     },
     "execution_count": 4,
     "metadata": {},
     "output_type": "execute_result"
    }
   ],
   "source": [
    "# Podzadatak 1\n",
    "df = pd.read_csv('./house.csv')\n",
    "# df = df.dropna()\n",
    "df"
   ]
  },
  {
   "cell_type": "code",
   "execution_count": 5,
   "metadata": {},
   "outputs": [],
   "source": [
    "# Podzadaci 2, 3, 4\n",
    "X = df['sqft_lot']\n",
    "y = df['price']\n",
    "\n",
    "X_train, X_test, y_train, y_test = train_test_split(X, y, test_size=0.2)\n",
    "X_train = X_train.to_numpy().reshape(-1, 1)\n",
    "X_test = X_test.to_numpy().reshape(-1, 1)\n",
    "y_train = y_train.to_numpy().reshape(-1, 1)\n",
    "y_test = y_test.to_numpy().reshape(-1, 1)\n",
    "\n",
    "scaler = preprocessing.StandardScaler()\n",
    "scaler.fit(X_train)\n",
    "X_train = scaler.transform(X_train)\n",
    "X_test = scaler.transform(X_test)"
   ]
  },
  {
   "cell_type": "code",
   "execution_count": null,
   "metadata": {},
   "outputs": [],
   "source": [
    "# Podzadatak 5\n",
    "plt.scatter(X_train, y_train)"
   ]
  },
  {
   "cell_type": "code",
   "execution_count": null,
   "metadata": {},
   "outputs": [],
   "source": [
    "# Podzadatak 6\n",
    "m = X_train.shape[0]\n",
    "X_train_with_ones = np.concatenate((np.ones((m, 1)), X_train), axis=1)\n",
    "theta, loss = gradient_method(X_train_with_ones, y_train, iterations=500)"
   ]
  },
  {
   "cell_type": "code",
   "execution_count": null,
   "metadata": {},
   "outputs": [],
   "source": [
    "# Podzadatak 7 i 8\n",
    "\n",
    "plt.scatter(X_train, y_train)\n",
    "x = np.linspace(np.min(X_train) - 1, np.max(X_train) + 1, 10000)\n",
    "y = theta[0] + x * theta[1]\n",
    "plt.plot(x, y, color='r')\n",
    "plt.title('Model funkcija')\n",
    "plt.xlabel('sqft_lot')\n",
    "plt.ylabel('price')\n",
    "plt.show()\n",
    "\n",
    "plt.plot(np.arange(1, loss.shape[0] + 1), loss)\n",
    "plt.title('Graf funkcije gubitka')\n",
    "plt.xlabel('Iteracija')\n",
    "plt.ylabel('J(Theta)')\n",
    "plt.show()"
   ]
  },
  {
   "cell_type": "code",
   "execution_count": null,
   "metadata": {},
   "outputs": [],
   "source": [
    "# Podzadatak 9\n",
    "m = X_test.shape[0]\n",
    "X_test_with_ones = np.concatenate((np.ones((m, 1)), X_test), axis=1)\n",
    "predictions = h_vectorised(X_test_with_ones, theta)\n",
    "\n",
    "loss = 0\n",
    "for i, prediction in enumerate(predictions):\n",
    "    loss += (prediction -  y_test[i])**2\n",
    "print(f'Prosječni loss na testnom skupu iznosi {loss[0] / (2 * m)}')"
   ]
  },
  {
   "cell_type": "code",
   "execution_count": null,
   "metadata": {},
   "outputs": [],
   "source": [
    "# Podzadatak 10\n",
    "lr = LinearRegression(fit_intercept=True)\n",
    "lr.fit(X_train, y_train)\n",
    "lr.coef_, lr.intercept_"
   ]
  },
  {
   "cell_type": "code",
   "execution_count": null,
   "metadata": {},
   "outputs": [],
   "source": [
    "lr.score(X_test, y_test)"
   ]
  },
  {
   "cell_type": "code",
   "execution_count": null,
   "metadata": {},
   "outputs": [],
   "source": [
    "# Podzadatak 11\n",
    "loss = 0\n",
    "for i, prediction in enumerate(lr.predict(X_test)):\n",
    "    loss += (prediction -  y_test[i])**2\n",
    "print(f'Prosječni loss na testnom skupu iznosi {loss[0] / (2 * m)}')"
   ]
  },
  {
   "cell_type": "code",
   "execution_count": null,
   "metadata": {},
   "outputs": [],
   "source": [
    "# Podzadatak 12\n",
    "# Modeli daju jednak rezultat"
   ]
  },
  {
   "cell_type": "code",
   "execution_count": null,
   "metadata": {},
   "outputs": [],
   "source": [
    "# Podzadatak 13\n",
    "m = X_train.shape[0]\n",
    "X_neq = np.concatenate((np.ones((m, 1)), X_train), axis=1)\n",
    "theta_normal_eq = np.linalg.inv(X_neq.T @ X_neq).dot(X_neq.T).dot(y_train)\n",
    "theta_normal_eq.squeeze()"
   ]
  },
  {
   "cell_type": "markdown",
   "metadata": {},
   "source": [
    "## Zadatak 5 (15)\n",
    "___\n",
    "U ovom zadatku ulazni podaci će biti višestruki. Izlazna varijabla je i dalje price. \n",
    "1. Odaberite barem 3 varijable koje će vam predstavljati ulazne podatke modela. Reprezentirajte ih kao *numpy.array*.\n",
    "\n",
    "2. Vizualizirajte veze između odabranih varijabli. Ukratko argumentirajte zašto je vaš izbor dobar (ili loš) za izgradnju modela linearne regresije.\n",
    "\n",
    "3. Izračunajte parametre $\\theta_0, \\theta_1, \\cdots, \\theta_n$ koristeći implementaciju gradijentne metode iz trećeg zadatka. ($n$ je broj varijabli koje ste odabrali).\n",
    "\n",
    "4. Testirajte kvalitetu svojeg modela na podacima za testiranje $X_{test}$ i $y_{test}$. Ispišite vrijednost pogreške na skupu za testiranje."
   ]
  },
  {
   "cell_type": "code",
   "execution_count": 6,
   "metadata": {},
   "outputs": [],
   "source": [
    "# Podzadatak 1\n",
    "# Biramo varijable sqft_living, bathrooms i bedrooms\n",
    "X = df[['sqft_lot', 'bathrooms', 'bedrooms']]\n",
    "y = df['price']\n",
    "\n",
    "X_train, X_test, y_train, y_test = train_test_split(X, y, test_size=0.2)\n",
    "X_train = X_train.to_numpy()\n",
    "X_test = X_test.to_numpy()\n",
    "y_train = y_train.to_numpy().reshape(-1, 1)\n",
    "y_test = y_test.to_numpy().reshape(-1, 1)"
   ]
  },
  {
   "cell_type": "code",
   "execution_count": 7,
   "metadata": {},
   "outputs": [
    {
     "data": {
      "text/plain": [
       "Text(0, 0.5, 'price')"
      ]
     },
     "execution_count": 7,
     "metadata": {},
     "output_type": "execute_result"
    },
    {
     "data": {
      "image/png": "[encoded data removed]",
      "text/plain": [
       "<Figure size 1440x360 with 3 Axes>"
      ]
     },
     "metadata": {
      "needs_background": "light"
     },
     "output_type": "display_data"
    }
   ],
   "source": [
    "# Podzadatak 2\n",
    "fig, axs = plt.subplots(1, 3, figsize=(20, 5))\n",
    "axs[0].scatter(X_train[:, 0], y_train)\n",
    "axs[0].set_xlabel('sqft_living')\n",
    "axs[0].set_ylabel('price')\n",
    "\n",
    "axs[1].scatter(X_train[:, 1], y_train)\n",
    "axs[1].set_xlabel('bathrooms')\n",
    "axs[1].set_ylabel('price')\n",
    "\n",
    "axs[2].scatter(X_train[:, 2], y_train)\n",
    "axs[2].set_xlabel('bedrooms')\n",
    "axs[2].set_ylabel('price')"
   ]
  },
  {
   "cell_type": "code",
   "execution_count": 8,
   "metadata": {},
   "outputs": [],
   "source": [
    "# Skaliranje podataka\n",
    "scaler = preprocessing.StandardScaler()\n",
    "scaler.fit(X_train)\n",
    "X_train = scaler.transform(X_train)\n",
    "X_test = scaler.transform(X_test)"
   ]
  },
  {
   "cell_type": "code",
   "execution_count": 12,
   "metadata": {},
   "outputs": [
    {
     "name": "stdout",
     "output_type": "stream",
     "text": [
      "17290\n",
      "Starting gradient descent with 500 iterations and learning rate 0.1\n",
      "Iteration 50\n",
      "grad = [-3099.88104127   334.11997938 -3592.6441925   3477.98908277]\n",
      "theta = [538540.06906402  20041.14837345 170146.27409854  26201.44274017]\n",
      "loss = 48141705915.624374\n",
      "Iteration 100\n",
      "grad = [ -15.97609006   35.31375669 -328.98546565  325.17629121]\n",
      "theta = [541315.58352011  19368.4273353  176782.16960033  19679.67010538]\n",
      "loss = 48110118700.92914\n",
      "Iteration 150\n",
      "grad = [ -0.08233718   3.28891865 -30.45754335  30.10248343]\n",
      "theta = [541329.8878977   19302.4720823  177394.60323694  19074.34842366]\n",
      "loss = 48109889035.14895\n",
      "Iteration 200\n",
      "grad = [-4.24347371e-04  3.04592637e-01 -2.81975866e+00  2.78686528e+00]\n",
      "theta = [541329.96161924  19296.34831938 177451.30265331  19018.3102225 ]\n",
      "loss = 48109887067.769485\n",
      "Iteration 250\n",
      "grad = [-2.18712569e-06  2.81996971e-02 -2.61052737e-01  2.58007353e-01]\n",
      "theta = [541329.96199919  19295.78128749 177456.55187904  19013.12223199]\n",
      "loss = 48109887050.90706\n",
      "Iteration 300\n",
      "grad = [-1.13077320e-08  2.61072556e-03 -2.41682118e-02  2.38862701e-02]\n",
      "theta = [541329.96200115  19295.72879128 177457.03785136  19012.64192892]\n",
      "loss = 48109887050.762535\n",
      "Iteration 350\n",
      "grad = [-4.69054770e-10  2.41700482e-04 -2.23748831e-03  2.21138624e-03]\n",
      "theta = [541329.96200116  19295.72393118 177457.08284259  19012.59746255]\n",
      "loss = 48109887050.7613\n",
      "Iteration 400\n",
      "grad = [-4.97495390e-10  2.23765782e-05 -2.07146243e-04  2.04729692e-04]\n",
      "theta = [541329.96200116  19295.72348124 177457.08700786  19012.59334587]\n",
      "loss = 48109887050.76129\n",
      "Iteration 450\n",
      "grad = [-5.05898301e-10  2.07161562e-06 -1.91775678e-05  1.89538408e-05]\n",
      "theta = [541329.96200116  19295.72343958 177457.08739348  19012.59296474]\n",
      "loss = 48109887050.761284\n",
      "Iteration 500\n",
      "grad = [-4.78750436e-10  1.91790614e-07 -1.77543285e-06  1.75474941e-06]\n",
      "theta = [541329.96200116  19295.72343572 177457.08742919  19012.59292946]\n",
      "loss = 48109887050.76129\n"
     ]
    }
   ],
   "source": [
    "# Podzadatak 3\n",
    "m = X_train.shape[0]\n",
    "X_train_with_ones = np.concatenate((np.ones((m, 1)), X_train), axis=1) #skulzi samo za dodavanje jedinica u prvi supac od X\n",
    "theta, loss = gradient_method(X_train_with_ones, y_train, learning_rate=0.1, iterations=500)"
   ]
  },
  {
   "cell_type": "code",
   "execution_count": 13,
   "metadata": {},
   "outputs": [
    {
     "name": "stdout",
     "output_type": "stream",
     "text": [
      "Prosječni loss na testnom skupu iznosi 50331406729.105354\n"
     ]
    }
   ],
   "source": [
    "# Podzadatak 4\n",
    "m = X_test.shape[0]\n",
    "X_test_with_ones = np.concatenate((np.ones((m, 1)), X_test), axis=1)\n",
    "predictions = h_vectorised(X_test_with_ones, theta)\n",
    "\n",
    "loss = 0\n",
    "for i, prediction in enumerate(predictions):\n",
    "    loss += (prediction -  y_test[i])**2\n",
    "print(f'Prosječni loss na testnom skupu iznosi {loss[0] / (2 * m)}')"
   ]
  },
  {
   "cell_type": "markdown",
   "metadata": {},
   "source": [
    "## Polinomna regresija\n",
    "Skup iz datoteke poly_data.csv ćemo modelirati polinomom stupnja većeg od 1."
   ]
  },
  {
   "cell_type": "code",
   "execution_count": 15,
   "metadata": {},
   "outputs": [
    {
     "data": {
      "text/html": [
       "<div>\n",
       "<style scoped>\n",
       "    .dataframe tbody tr th:only-of-type {\n",
       "        vertical-align: middle;\n",
       "    }\n",
       "\n",
       "    .dataframe tbody tr th {\n",
       "        vertical-align: top;\n",
       "    }\n",
       "\n",
       "    .dataframe thead th {\n",
       "        text-align: right;\n",
       "    }\n",
       "</style>\n",
       "<table border=\"1\" class=\"dataframe\">\n",
       "  <thead>\n",
       "    <tr style=\"text-align: right;\">\n",
       "      <th></th>\n",
       "      <th>x</th>\n",
       "      <th>y</th>\n",
       "    </tr>\n",
       "  </thead>\n",
       "  <tbody>\n",
       "    <tr>\n",
       "      <th>0</th>\n",
       "      <td>5.180930</td>\n",
       "      <td>108.178571</td>\n",
       "    </tr>\n",
       "    <tr>\n",
       "      <th>1</th>\n",
       "      <td>2.813873</td>\n",
       "      <td>25.310284</td>\n",
       "    </tr>\n",
       "    <tr>\n",
       "      <th>2</th>\n",
       "      <td>3.629115</td>\n",
       "      <td>29.099405</td>\n",
       "    </tr>\n",
       "    <tr>\n",
       "      <th>3</th>\n",
       "      <td>8.439167</td>\n",
       "      <td>550.499645</td>\n",
       "    </tr>\n",
       "    <tr>\n",
       "      <th>4</th>\n",
       "      <td>2.320361</td>\n",
       "      <td>1.945666</td>\n",
       "    </tr>\n",
       "    <tr>\n",
       "      <th>...</th>\n",
       "      <td>...</td>\n",
       "      <td>...</td>\n",
       "    </tr>\n",
       "    <tr>\n",
       "      <th>1995</th>\n",
       "      <td>10.077961</td>\n",
       "      <td>309.522407</td>\n",
       "    </tr>\n",
       "    <tr>\n",
       "      <th>1996</th>\n",
       "      <td>3.168160</td>\n",
       "      <td>403.415668</td>\n",
       "    </tr>\n",
       "    <tr>\n",
       "      <th>1997</th>\n",
       "      <td>2.415014</td>\n",
       "      <td>824.799528</td>\n",
       "    </tr>\n",
       "    <tr>\n",
       "      <th>1998</th>\n",
       "      <td>4.359304</td>\n",
       "      <td>546.270698</td>\n",
       "    </tr>\n",
       "    <tr>\n",
       "      <th>1999</th>\n",
       "      <td>4.321194</td>\n",
       "      <td>134.609591</td>\n",
       "    </tr>\n",
       "  </tbody>\n",
       "</table>\n",
       "<p>2000 rows × 2 columns</p>\n",
       "</div>"
      ],
      "text/plain": [
       "              x           y\n",
       "0      5.180930  108.178571\n",
       "1      2.813873   25.310284\n",
       "2      3.629115   29.099405\n",
       "3      8.439167  550.499645\n",
       "4      2.320361    1.945666\n",
       "...         ...         ...\n",
       "1995  10.077961  309.522407\n",
       "1996   3.168160  403.415668\n",
       "1997   2.415014  824.799528\n",
       "1998   4.359304  546.270698\n",
       "1999   4.321194  134.609591\n",
       "\n",
       "[2000 rows x 2 columns]"
      ]
     },
     "execution_count": 15,
     "metadata": {},
     "output_type": "execute_result"
    }
   ],
   "source": [
    "# Ucitavanje podataka\n",
    "data_path = './poly_data.csv'\n",
    "df = pd.read_csv(data_path)\n",
    "df"
   ]
  },
  {
   "cell_type": "markdown",
   "metadata": {},
   "source": [
    "Umjesto definiranja kubične model funkcije\n",
    "$$\n",
    "h_{\\textrm{cubic}}(x) = \\theta_0 + \\theta_1x + \\theta_2x^2 + \\theta_3x^3,\n",
    "$$\n",
    "definiramo linearnu model funkciju \n",
    "$$\n",
    "h_{\\textrm{linear}}(x) = \\theta_0 + \\theta_1x_1 + \\theta_2x_2 + \\theta_3x_3,\n",
    "$$\n",
    "gdje je $x_1 = x$, $x_2 = x^2$, $x_3 = x^3$.\n",
    "\n",
    "U modelu polinomijalne regresije stupnja $n$, matrica dizajna je oblika\n",
    "$$\n",
    "\\begin{bmatrix}\n",
    "1 & x^{(1)} & x^{(1)^2} & \\dots & x^{(1)^n} \\\\\n",
    "1 & x^{(2)} & x^{(2)^2} & \\dots & x^{(2)^n} \\\\\n",
    "\\vdots & \\vdots & \\vdots & \\ddots & \\vdots \\\\\n",
    "1 & x^{(m)} & x^{(m)^2} & \\dots & x^{(m)^n}\n",
    "\\end{bmatrix},\n",
    "$$\n",
    "što je upravo Vandermondeova matrica te je regularna ako su svi $x^{(i)}$ međusobno različiti."
   ]
  },
  {
   "cell_type": "code",
   "execution_count": 16,
   "metadata": {},
   "outputs": [],
   "source": [
    "def cubic_regression_transform(X):\n",
    "    \"\"\"X je numpy.array oblika (m,)\n",
    "    Funkcija vraća array oblika (m,3) gdje svaki stupac predstavlja jednu potenciju podatka x\n",
    "    \"\"\"\n",
    "    m=X.shape[0]\n",
    "    X_transformed = np.empty((m,3))\n",
    "    X_transformed[:,0] = X\n",
    "    X_transformed[:,1] = np.power(X,2)\n",
    "    X_transformed[:,2] = np.power(X,3)\n",
    "    return X_transformed\n",
    "    "
   ]
  },
  {
   "cell_type": "code",
   "execution_count": 20,
   "metadata": {},
   "outputs": [],
   "source": [
    "X= df['x']\n",
    "y= df['y']\n",
    "X_train,X_test,y_train,y_test = train_test_split(X,y, train_size=0.8)\n",
    "X_train_transformed = cubic_regression_transform(X_train.to_numpy())\n",
    "X_test_transformed = cubic_regression_transform(X_test.to_numpy())\n",
    "y_train = y_train.to_numpy().reshape(-1,1)\n",
    "y_test = y_test.to_numpy().reshape(-1,1)\n",
    "\n",
    "#Skaliranje podataka\n",
    "scaler = preprocessing.StandardScaler()\n",
    "scaler.fit(X_train_transformed)\n",
    "X_train_transformed = scaler.transform(X_train_transformed)\n",
    "X_test_transformed = scaler.transform(X_test_transformed)\n"
   ]
  },
  {
   "cell_type": "markdown",
   "metadata": {},
   "source": [
    "### Treniranje i \"evaluacija\" modela"
   ]
  },
  {
   "cell_type": "code",
   "execution_count": 37,
   "metadata": {},
   "outputs": [
    {
     "name": "stdout",
     "output_type": "stream",
     "text": [
      "Starting gradient descent with 10000 iterations and learning rate 0.1\n",
      "Iteration 1000\n",
      "grad = [-1.19371180e-13 -9.48858652e-03  2.82948696e-02 -1.93637159e-02]\n",
      "theta = [230.21440133 -33.87912926  86.49470677 169.24605283]\n",
      "loss = 7978.132867619137\n",
      "Iteration 2000\n",
      "grad = [-1.17381660e-13 -1.01932265e-02  2.54117358e-02 -1.57298398e-02]\n",
      "theta = [230.21440133 -32.82119459  83.80272394 170.93412855]\n",
      "loss = 7978.020534238425\n",
      "Iteration 3000\n",
      "grad = [-1.12123644e-13 -9.07229255e-03  2.26163651e-02 -1.39991574e-02]\n",
      "theta = [230.21440133 -31.85904747  81.40417076 172.41879808]\n",
      "loss = 7977.9315878962125\n",
      "Iteration 4000\n",
      "grad = [-1.11839427e-13 -8.07429453e-03  2.01284505e-02 -1.24591791e-02]\n",
      "theta = [230.21440133 -31.00273701  79.26947    173.74014268]\n",
      "loss = 7977.861134299904\n",
      "Iteration 5000\n",
      "grad = [-1.06581410e-13 -7.18608126e-03  1.79142191e-02 -1.10886064e-02]\n",
      "theta = [230.21440133 -30.24062503  77.36959712 174.91613268]\n",
      "loss = 7977.805328641015\n",
      "Iteration 6000\n",
      "grad = [-1.01891828e-13 -6.39557595e-03  1.59435643e-02 -9.86880353e-03]\n",
      "theta = [230.21440133 -29.56234923  75.67871988 175.96275782]\n",
      "loss = 7977.761125481385\n",
      "Iteration 7000\n",
      "grad = [-1.01749720e-13 -5.69203023e-03  1.41896915e-02 -8.78318520e-03]\n",
      "theta = [230.21440133 -28.9586872   74.17384769 176.89424891]\n",
      "loss = 7977.726112556888\n",
      "Iteration 8000\n",
      "grad = [-9.96180916e-14 -5.06587809e-03  1.26287536e-02 -7.81699037e-03]\n",
      "theta = [230.21440133 -28.42143105  72.83451906 177.72327126]\n",
      "loss = 7977.698379134838\n",
      "Iteration 9000\n",
      "grad = [-9.87654403e-14 -4.50860586e-03  1.12395268e-02 -6.95708186e-03]\n",
      "theta = [230.21440133 -27.9432758   71.64252335 178.46109695]\n",
      "loss = 7977.676411741099\n",
      "Iteration 10000\n",
      "grad = [-9.59232693e-14 -4.01263639e-03  1.00031220e-02 -6.19176764e-03]\n",
      "theta = [230.21440133 -27.51772004  70.58165321 179.11775809]\n",
      "loss = 7977.6590115664285\n"
     ]
    }
   ],
   "source": [
    "m= X_train.shape[0]\n",
    "X_train_with_ones = np.concatenate((np.ones((m,1)),X_train_transformed),axis=1) #ide (m,1) jer imamo da je X_train_transofrmed dolazi sa m redaka pa u svaki redak dodamo 1\n",
    "theta, loss = gradient_method(X_train_with_ones,y_train,learning_rate=0.1,iterations=10000)\n"
   ]
  },
  {
   "cell_type": "markdown",
   "metadata": {},
   "source": [
    "Hoćemo li dobiti iste rezultate ako koristimo scikit-learn regresiju?"
   ]
  },
  {
   "cell_type": "code",
   "execution_count": 61,
   "metadata": {},
   "outputs": [
    {
     "data": {
      "image/png": "[encoded data removed]",
      "text/plain": [
       "<Figure size 720x720 with 1 Axes>"
      ]
     },
     "metadata": {
      "needs_background": "light"
     },
     "output_type": "display_data"
    }
   ],
   "source": [
    "plt.scatter(X_train,y_train, color='red',edgecolors='blue')\n",
    "x= np.linspace(-1,11,1000)\n",
    "#print(x)\n",
    "x_tr = scaler.transform(cubic_regression_transform(x))\n",
    "x_tr = np.concatenate((np.ones((x_tr.shape[0],1)),x_tr),axis=1)\n",
    "#print(x_tr)\n",
    "#print(x_tr.shape)\n",
    "plt.plot(x,h_vectorised(x_tr,theta),color='yellow') #Sto nam ono vectorized radi ? najverovatnije skalarni produkt\n",
    "#print(h_vectorised(x_tr,theta))\n",
    "plt.title('Podaci za testiranje')\n",
    "plt.xlabel('x')\n",
    "plt.ylabel('h(x)')\n",
    "plt.show()"
   ]
  },
  {
   "cell_type": "code",
   "execution_count": 66,
   "metadata": {},
   "outputs": [
    {
     "data": {
      "image/png": "[encoded data removed]",
      "text/plain": [
       "<Figure size 720x720 with 1 Axes>"
      ]
     },
     "metadata": {
      "needs_background": "light"
     },
     "output_type": "display_data"
    }
   ],
   "source": [
    "plt.scatter(X_test,y_test, color='red',edgecolors='blue')\n",
    "x= np.linspace(-1,11,1000)\n",
    "#print(x)\n",
    "x_tr = scaler.transform(cubic_regression_transform(x))\n",
    "x_tr = np.concatenate((np.ones((x_tr.shape[0],1)),x_tr),axis=1)\n",
    "#print(x_tr)\n",
    "#print(x_tr.shape)\n",
    "plt.plot(x,h_vectorised(x_tr,theta),color='yellow') #Sto nam ono vectorized radi ? najverovatnije skalarni produkt\n",
    "#print(h_vectorised(x_tr,theta))\n",
    "plt.title('Podaci za testiranje')\n",
    "plt.xlabel('x')\n",
    "plt.ylabel('h(x)')\n",
    "plt.show()"
   ]
  },
  {
   "cell_type": "markdown",
   "metadata": {},
   "source": [
    "## Hocemo li dobiti iste razultate ako koristimo scikit-learn regresiju?"
   ]
  },
  {
   "cell_type": "code",
   "execution_count": 65,
   "metadata": {},
   "outputs": [
    {
     "data": {
      "text/plain": [
       "(array([[-24.0747651 ,  61.99869308, 184.43046895]]), array([230.21440133]))"
      ]
     },
     "execution_count": 65,
     "metadata": {},
     "output_type": "execute_result"
    }
   ],
   "source": [
    "lr = LinearRegression().fit(X_train_transformed,y_train)\n",
    "lr.coef_,lr.intercept_ #intercept je za slobodni clan a ostalo su koeficijenti uz x_1 x_2, x_3"
   ]
  },
  {
   "cell_type": "code",
   "execution_count": 67,
   "metadata": {},
   "outputs": [
    {
     "data": {
      "text/plain": [
       "0.6343580146944275"
      ]
     },
     "execution_count": 67,
     "metadata": {},
     "output_type": "execute_result"
    }
   ],
   "source": [
    "lr.score(X_test_transformed, y_test)"
   ]
  },
  {
   "cell_type": "markdown",
   "metadata": {},
   "source": [
    "## Huber regresija"
   ]
  },
  {
   "cell_type": "code",
   "execution_count": 68,
   "metadata": {},
   "outputs": [],
   "source": [
    "from sklearn.linear_model import HuberRegressor\n",
    "from sklearn.datasets import make_regression\n",
    "from numpy.random import default_rng\n",
    "rng = default_rng()"
   ]
  },
  {
   "cell_type": "markdown",
   "metadata": {},
   "source": [
    "Sa standardnom (*mean squared error*) funkcijom cilja kvaliteta modela ovisi o stršećim vrijednostima."
   ]
  },
  {
   "cell_type": "code",
   "execution_count": 72,
   "metadata": {},
   "outputs": [
    {
     "data": {
      "image/png": "[encoded data removed]",
      "text/plain": [
       "<Figure size 720x720 with 1 Axes>"
      ]
     },
     "metadata": {
      "needs_background": "light"
     },
     "output_type": "display_data"
    }
   ],
   "source": [
    "X = np.array([1,2,3,4,5,6,7,8,9,10]).reshape(-1, 1)\n",
    "y = np.array([1, 2.1, 3, 4, 5.2, 6, 7.1, 8, 9, 10]).reshape(-1, 1)\n",
    "lr = LinearRegression().fit(X, y)\n",
    "plt.scatter(X, y)\n",
    "\n",
    "\n",
    "x = np.linspace(-1, 11, 100)\n",
    "plt.plot(x, (lr.intercept_ + x * lr.coef_).reshape(-1), color='red')\n",
    "plt.show()"
   ]
  },
  {
   "cell_type": "code",
   "execution_count": 73,
   "metadata": {},
   "outputs": [
    {
     "data": {
      "image/png": "[encoded data removed]",
      "text/plain": [
       "<Figure size 720x720 with 1 Axes>"
      ]
     },
     "metadata": {
      "needs_background": "light"
     },
     "output_type": "display_data"
    }
   ],
   "source": [
    "X = np.array([1,2,3,4,5,6,7,8,9,10]).reshape(-1, 1)\n",
    "y = np.array([1, 20.1, 3, 4, 5.2, 6, 7.1, 30, 9, 9.5]).reshape(-1, 1)\n",
    "lr = LinearRegression().fit(X, y)\n",
    "plt.scatter(X, y)\n",
    "\n",
    "x = np.linspace(-1, 11, 100)\n",
    "plt.plot(x, (lr.intercept_ + x * lr.coef_).reshape(-1), color='red')\n",
    "plt.show()"
   ]
  },
  {
   "cell_type": "markdown",
   "metadata": {},
   "source": [
    "Kako bismo izbjegli ovaj problem, koristimo funkciju gubitka *Huber loss* koja je robusnija na sršeće vrijednosti u odnosu MSE loss. \n",
    "Funkcija se definira na sljedeći način: \n",
    "$$ \n",
    "L_{\\delta}(a) = \\begin{cases}\n",
    "                            \\frac{1}{2}a^2, \\;za\\; |a| \\leq \\delta \\\\\n",
    "                            \\delta \\cdot |a| - \\frac{1}{2}\\delta ^2, \\; inace\n",
    "                            \\end{cases}\n",
    "$$\n",
    "U slučaju regresije, umjesto varijable $a$ uvrštavamo rezidual $y - h(x)$."
   ]
  },
  {
   "cell_type": "code",
   "execution_count": 74,
   "metadata": {},
   "outputs": [],
   "source": [
    "def huber_loss(a, delta=1):\n",
    "    \"\"\"Funkcija za realan broj a vraća vrijednost Huber loss funkcije    \n",
    "    \"\"\"\n",
    "    if abs(a) <= delta:\n",
    "        return 0.5*a**2\n",
    "    else:\n",
    "        return delta*abs(a)-0.5*(delta**2)\n",
    "def f(x):\n",
    "    return x ** 2\n",
    "\n",
    "def g(x, delta=1):\n",
    "    return delta * abs(x) - 0.5 * (delta ** 2)"
   ]
  },
  {
   "cell_type": "code",
   "execution_count": 78,
   "metadata": {},
   "outputs": [
    {
     "data": {
      "image/png": "[encoded data removed]",
      "text/plain": [
       "<Figure size 720x720 with 1 Axes>"
      ]
     },
     "metadata": {
      "needs_background": "light"
     },
     "output_type": "display_data"
    }
   ],
   "source": [
    "x=np.linspace(-10,10,1000)\n",
    "\n",
    "plt.plot(x,f(x),color='red')\n",
    "plt.plot(x,g(x),color='blue')\n",
    "plt.plot(x, [huber_loss(_) for _ in x], color='khaki') #Kaki nam je ovo zapis tocno \n",
    "plt.legend(['Kvadratna funkcija', 'P.D. linearna funkcija', 'Huber loss funkcija'])\n",
    "plt.show()"
   ]
  },
  {
   "cell_type": "code",
   "execution_count": 106,
   "metadata": {},
   "outputs": [
    {
     "data": {
      "image/png": "[encoded data removed]",
      "text/plain": [
       "<Figure size 720x720 with 1 Axes>"
      ]
     },
     "metadata": {
      "needs_background": "light"
     },
     "output_type": "display_data"
    }
   ],
   "source": [
    "X,y = make_regression(n_samples=1000, n_features=1,noise=1)\n",
    "X[:5] = rng.uniform(20,30,(5,1)) # ovo dvoje je za dodavanje vrijednosti koje nam odstupaju jako \n",
    "y[:5] = rng.uniform(10,20,5) #\n",
    "plt.scatter(X,y)\n",
    "plt.show()\n"
   ]
  },
  {
   "cell_type": "code",
   "execution_count": 107,
   "metadata": {},
   "outputs": [],
   "source": [
    "lr = LinearRegression().fit(X,y)\n",
    "hr = HuberRegressor().fit(X,y)\n"
   ]
  },
  {
   "cell_type": "code",
   "execution_count": 110,
   "metadata": {},
   "outputs": [
    {
     "name": "stdout",
     "output_type": "stream",
     "text": [
      "[-4.35565176e+01 -4.28541618e+01 -4.21518059e+01 -4.14494501e+01\n",
      " -4.07470942e+01 -4.00447384e+01 -3.93423825e+01 -3.86400267e+01\n",
      " -3.79376708e+01 -3.72353150e+01 -3.65329591e+01 -3.58306033e+01\n",
      " -3.51282474e+01 -3.44258916e+01 -3.37235357e+01 -3.30211799e+01\n",
      " -3.23188240e+01 -3.16164682e+01 -3.09141123e+01 -3.02117565e+01\n",
      " -2.95094006e+01 -2.88070448e+01 -2.81046889e+01 -2.74023331e+01\n",
      " -2.66999772e+01 -2.59976214e+01 -2.52952655e+01 -2.45929097e+01\n",
      " -2.38905538e+01 -2.31881980e+01 -2.24858421e+01 -2.17834863e+01\n",
      " -2.10811304e+01 -2.03787746e+01 -1.96764187e+01 -1.89740629e+01\n",
      " -1.82717070e+01 -1.75693512e+01 -1.68669953e+01 -1.61646395e+01\n",
      " -1.54622836e+01 -1.47599278e+01 -1.40575719e+01 -1.33552161e+01\n",
      " -1.26528602e+01 -1.19505044e+01 -1.12481485e+01 -1.05457927e+01\n",
      " -9.84343684e+00 -9.14108099e+00 -8.43872514e+00 -7.73636929e+00\n",
      " -7.03401344e+00 -6.33165759e+00 -5.62930174e+00 -4.92694589e+00\n",
      " -4.22459004e+00 -3.52223419e+00 -2.81987834e+00 -2.11752249e+00\n",
      " -1.41516664e+00 -7.12810790e-01 -1.04549404e-02  6.91900909e-01\n",
      "  1.39425676e+00  2.09661261e+00  2.79896846e+00  3.50132431e+00\n",
      "  4.20368016e+00  4.90603601e+00  5.60839186e+00  6.31074771e+00\n",
      "  7.01310356e+00  7.71545941e+00  8.41781526e+00  9.12017111e+00\n",
      "  9.82252696e+00  1.05248828e+01  1.12272387e+01  1.19295945e+01\n",
      "  1.26319504e+01  1.33343062e+01  1.40366621e+01  1.47390179e+01\n",
      "  1.54413738e+01  1.61437296e+01  1.68460855e+01  1.75484413e+01\n",
      "  1.82507972e+01  1.89531530e+01  1.96555089e+01  2.03578647e+01\n",
      "  2.10602206e+01  2.17625764e+01  2.24649323e+01  2.31672881e+01\n",
      "  2.38696440e+01  2.45719998e+01  2.52743556e+01  2.59767115e+01\n",
      "  2.66790673e+01  2.73814232e+01  2.80837790e+01  2.87861349e+01\n",
      "  2.94884907e+01  3.01908466e+01  3.08932024e+01  3.15955583e+01\n",
      "  3.22979141e+01  3.30002700e+01  3.37026258e+01  3.44049817e+01\n",
      "  3.51073375e+01  3.58096934e+01  3.65120492e+01  3.72144051e+01\n",
      "  3.79167609e+01  3.86191168e+01  3.93214726e+01  4.00238285e+01\n",
      "  4.07261843e+01  4.14285402e+01  4.21308960e+01  4.28332519e+01\n",
      "  4.35356077e+01  4.42379636e+01  4.49403194e+01  4.56426753e+01\n",
      "  4.63450311e+01  4.70473870e+01  4.77497428e+01  4.84520987e+01\n",
      "  4.91544545e+01  4.98568104e+01  5.05591662e+01  5.12615221e+01\n",
      "  5.19638779e+01  5.26662338e+01  5.33685896e+01  5.40709455e+01\n",
      "  5.47733013e+01  5.54756572e+01  5.61780130e+01  5.68803689e+01\n",
      "  5.75827247e+01  5.82850806e+01  5.89874364e+01  5.96897923e+01\n",
      "  6.03921481e+01  6.10945040e+01  6.17968598e+01  6.24992157e+01\n",
      "  6.32015715e+01  6.39039274e+01  6.46062832e+01  6.53086391e+01\n",
      "  6.60109949e+01  6.67133508e+01  6.74157066e+01  6.81180625e+01\n",
      "  6.88204183e+01  6.95227742e+01  7.02251300e+01  7.09274859e+01\n",
      "  7.16298417e+01  7.23321976e+01  7.30345534e+01  7.37369093e+01\n",
      "  7.44392651e+01  7.51416210e+01  7.58439768e+01  7.65463327e+01\n",
      "  7.72486885e+01  7.79510444e+01  7.86534002e+01  7.93557561e+01\n",
      "  8.00581119e+01  8.07604678e+01  8.14628236e+01  8.21651795e+01\n",
      "  8.28675353e+01  8.35698912e+01  8.42722470e+01  8.49746029e+01\n",
      "  8.56769587e+01  8.63793146e+01  8.70816704e+01  8.77840263e+01\n",
      "  8.84863821e+01  8.91887380e+01  8.98910938e+01  9.05934497e+01\n",
      "  9.12958055e+01  9.19981614e+01  9.27005172e+01  9.34028731e+01\n",
      "  9.41052289e+01  9.48075848e+01  9.55099406e+01  9.62122965e+01\n",
      "  9.69146523e+01  9.76170082e+01  9.83193640e+01  9.90217199e+01\n",
      "  9.97240757e+01  1.00426432e+02  1.01128787e+02  1.01831143e+02\n",
      "  1.02533499e+02  1.03235855e+02  1.03938211e+02  1.04640567e+02\n",
      "  1.05342923e+02  1.06045278e+02  1.06747634e+02  1.07449990e+02\n",
      "  1.08152346e+02  1.08854702e+02  1.09557058e+02  1.10259413e+02\n",
      "  1.10961769e+02  1.11664125e+02  1.12366481e+02  1.13068837e+02\n",
      "  1.13771193e+02  1.14473549e+02  1.15175904e+02  1.15878260e+02\n",
      "  1.16580616e+02  1.17282972e+02  1.17985328e+02  1.18687684e+02\n",
      "  1.19390040e+02  1.20092395e+02  1.20794751e+02  1.21497107e+02\n",
      "  1.22199463e+02  1.22901819e+02  1.23604175e+02  1.24306530e+02\n",
      "  1.25008886e+02  1.25711242e+02  1.26413598e+02  1.27115954e+02\n",
      "  1.27818310e+02  1.28520666e+02  1.29223021e+02  1.29925377e+02\n",
      "  1.30627733e+02  1.31330089e+02  1.32032445e+02  1.32734801e+02\n",
      "  1.33437157e+02  1.34139512e+02  1.34841868e+02  1.35544224e+02\n",
      "  1.36246580e+02  1.36948936e+02  1.37651292e+02  1.38353647e+02\n",
      "  1.39056003e+02  1.39758359e+02  1.40460715e+02  1.41163071e+02\n",
      "  1.41865427e+02  1.42567783e+02  1.43270138e+02  1.43972494e+02\n",
      "  1.44674850e+02  1.45377206e+02  1.46079562e+02  1.46781918e+02\n",
      "  1.47484274e+02  1.48186629e+02  1.48888985e+02  1.49591341e+02\n",
      "  1.50293697e+02  1.50996053e+02  1.51698409e+02  1.52400764e+02\n",
      "  1.53103120e+02  1.53805476e+02  1.54507832e+02  1.55210188e+02\n",
      "  1.55912544e+02  1.56614900e+02  1.57317255e+02  1.58019611e+02\n",
      "  1.58721967e+02  1.59424323e+02  1.60126679e+02  1.60829035e+02\n",
      "  1.61531390e+02  1.62233746e+02  1.62936102e+02  1.63638458e+02\n",
      "  1.64340814e+02  1.65043170e+02  1.65745526e+02  1.66447881e+02\n",
      "  1.67150237e+02  1.67852593e+02  1.68554949e+02  1.69257305e+02\n",
      "  1.69959661e+02  1.70662017e+02  1.71364372e+02  1.72066728e+02\n",
      "  1.72769084e+02  1.73471440e+02  1.74173796e+02  1.74876152e+02\n",
      "  1.75578507e+02  1.76280863e+02  1.76983219e+02  1.77685575e+02\n",
      "  1.78387931e+02  1.79090287e+02  1.79792643e+02  1.80494998e+02\n",
      "  1.81197354e+02  1.81899710e+02  1.82602066e+02  1.83304422e+02\n",
      "  1.84006778e+02  1.84709134e+02  1.85411489e+02  1.86113845e+02\n",
      "  1.86816201e+02  1.87518557e+02  1.88220913e+02  1.88923269e+02\n",
      "  1.89625624e+02  1.90327980e+02  1.91030336e+02  1.91732692e+02\n",
      "  1.92435048e+02  1.93137404e+02  1.93839760e+02  1.94542115e+02\n",
      "  1.95244471e+02  1.95946827e+02  1.96649183e+02  1.97351539e+02\n",
      "  1.98053895e+02  1.98756251e+02  1.99458606e+02  2.00160962e+02\n",
      "  2.00863318e+02  2.01565674e+02  2.02268030e+02  2.02970386e+02\n",
      "  2.03672741e+02  2.04375097e+02  2.05077453e+02  2.05779809e+02\n",
      "  2.06482165e+02  2.07184521e+02  2.07886877e+02  2.08589232e+02\n",
      "  2.09291588e+02  2.09993944e+02  2.10696300e+02  2.11398656e+02\n",
      "  2.12101012e+02  2.12803368e+02  2.13505723e+02  2.14208079e+02\n",
      "  2.14910435e+02  2.15612791e+02  2.16315147e+02  2.17017503e+02\n",
      "  2.17719858e+02  2.18422214e+02  2.19124570e+02  2.19826926e+02\n",
      "  2.20529282e+02  2.21231638e+02  2.21933994e+02  2.22636349e+02\n",
      "  2.23338705e+02  2.24041061e+02  2.24743417e+02  2.25445773e+02\n",
      "  2.26148129e+02  2.26850485e+02  2.27552840e+02  2.28255196e+02\n",
      "  2.28957552e+02  2.29659908e+02  2.30362264e+02  2.31064620e+02\n",
      "  2.31766975e+02  2.32469331e+02  2.33171687e+02  2.33874043e+02\n",
      "  2.34576399e+02  2.35278755e+02  2.35981111e+02  2.36683466e+02\n",
      "  2.37385822e+02  2.38088178e+02  2.38790534e+02  2.39492890e+02\n",
      "  2.40195246e+02  2.40897602e+02  2.41599957e+02  2.42302313e+02\n",
      "  2.43004669e+02  2.43707025e+02  2.44409381e+02  2.45111737e+02\n",
      "  2.45814092e+02  2.46516448e+02  2.47218804e+02  2.47921160e+02\n",
      "  2.48623516e+02  2.49325872e+02  2.50028228e+02  2.50730583e+02\n",
      "  2.51432939e+02  2.52135295e+02  2.52837651e+02  2.53540007e+02\n",
      "  2.54242363e+02  2.54944719e+02  2.55647074e+02  2.56349430e+02\n",
      "  2.57051786e+02  2.57754142e+02  2.58456498e+02  2.59158854e+02\n",
      "  2.59861209e+02  2.60563565e+02  2.61265921e+02  2.61968277e+02\n",
      "  2.62670633e+02  2.63372989e+02  2.64075345e+02  2.64777700e+02\n",
      "  2.65480056e+02  2.66182412e+02  2.66884768e+02  2.67587124e+02\n",
      "  2.68289480e+02  2.68991836e+02  2.69694191e+02  2.70396547e+02\n",
      "  2.71098903e+02  2.71801259e+02  2.72503615e+02  2.73205971e+02\n",
      "  2.73908326e+02  2.74610682e+02  2.75313038e+02  2.76015394e+02\n",
      "  2.76717750e+02  2.77420106e+02  2.78122462e+02  2.78824817e+02\n",
      "  2.79527173e+02  2.80229529e+02  2.80931885e+02  2.81634241e+02\n",
      "  2.82336597e+02  2.83038953e+02  2.83741308e+02  2.84443664e+02\n",
      "  2.85146020e+02  2.85848376e+02  2.86550732e+02  2.87253088e+02\n",
      "  2.87955443e+02  2.88657799e+02  2.89360155e+02  2.90062511e+02\n",
      "  2.90764867e+02  2.91467223e+02  2.92169579e+02  2.92871934e+02\n",
      "  2.93574290e+02  2.94276646e+02  2.94979002e+02  2.95681358e+02\n",
      "  2.96383714e+02  2.97086069e+02  2.97788425e+02  2.98490781e+02\n",
      "  2.99193137e+02  2.99895493e+02  3.00597849e+02  3.01300205e+02\n",
      "  3.02002560e+02  3.02704916e+02  3.03407272e+02  3.04109628e+02\n",
      "  3.04811984e+02  3.05514340e+02  3.06216696e+02  3.06919051e+02]\n"
     ]
    },
    {
     "data": {
      "image/png": "[encoded data removed]",
      "text/plain": [
       "<Figure size 720x720 with 1 Axes>"
      ]
     },
     "metadata": {
      "needs_background": "light"
     },
     "output_type": "display_data"
    }
   ],
   "source": [
    "x = np.linspace(-5, 35, 500)\n",
    "\n",
    "\n",
    "plt.scatter(X, y)\n",
    "plt.plot(x, lr.predict(x.reshape(-1, 1)), color='springgreen')\n",
    "plt.plot(x, hr.predict(x.reshape(-1, 1)), color='red')\n",
    "print(lr.predict(x.reshape(-1, 1))) # sto nam ono tocno predict radi ? \n",
    "\n",
    "\n",
    "plt.show()"
   ]
  }
 ],
 "metadata": {
  "kernelspec": {
   "display_name": "Python 3 (ipykernel)",
   "language": "python",
   "name": "python3"
  },
  "language_info": {
   "codemirror_mode": {
    "name": "ipython",
    "version": 3
   },
   "file_extension": ".py",
   "mimetype": "text/x-python",
   "name": "python",
   "nbconvert_exporter": "python",
   "pygments_lexer": "ipython3",
   "version": "3.9.7"
  }
 },
 "nbformat": 4,
 "nbformat_minor": 4
}
