{
 "cells": [
  {
   "cell_type": "markdown",
   "id": "42956623-74ea-4f08-ab92-02633bdb2fa4",
   "metadata": {},
   "source": [
    "# Vježbe 4 - dio 2\n",
    " - Logistička regresija (nastavak s prošlih vježbi)\n",
    " - Unakrsna validacija\n",
    " - Linearna regresija kao klasifikacijski model\n",
    " - Matrica zabune\n",
    " - Višeklasna klasifikacija"
   ]
  },
  {
   "cell_type": "code",
   "execution_count": null,
   "id": "3e06f0b8-2186-425a-9318-3dd010c597c6",
   "metadata": {},
   "outputs": [],
   "source": [
    "import numpy as np\n",
    "import matplotlib.pyplot as plt\n",
    "import pandas as pd\n",
    "from sklearn.datasets import make_blobs, load_digits\n",
    "from sklearn.model_selection import train_test_split\n",
    "from sklearn.svm import SVC, LinearSVC\n",
    "from sklearn.linear_model import LogisticRegression, LinearRegression, RidgeClassifier\n",
    "from sklearn.metrics import confusion_matrix\n",
    "\n",
    "from sklearn.multiclass import OneVsOneClassifier, OneVsRestClassifier\n",
    "\n",
    "plt.rcParams[\"figure.figsize\"] = (7, 7)"
   ]
  },
  {
   "cell_type": "markdown",
   "id": "3b664575-8e2c-47eb-b72f-426f5e7079d9",
   "metadata": {},
   "source": [
    "## Što je logistička regresija?\n",
    "- za model funkciju koristimo logističku (sigmoidnu) funkciju $\\sigma : \\mathbb{R} \\to \\mathbb{R}$, zadanu s $\\sigma(x) = \\frac{1}{1+\\exp{(-x)}}$\n",
    "- model funkcija je oblika $h_{\\Theta}(x) = \\sigma(\\Theta^Tx) = \\frac{1}{1+\\exp{(-\\Theta^Tx)}}$, eventualno s dodatnim parametrom $\\theta_0$.\n",
    "- logistička funkcija preslikava cijeli $\\mathbb{R}$ na interval $\\langle 0,1 \\rangle$ pa izlaznu vrijednost interpretiramo kao vjerojatnost da podatak $x$ s obzirom na parametar $\\theta$ pripada klasi $1$\n",
    "- kao u SVM ili perceptron modelu, $\\Theta$ definira hiperravninu koja klasificira podatke, sve što je \"ispod\" je klasa 0, sve \"iznad\" klasa 1\n",
    "- Učenje se svodi na minimizaciju **konveksne** funkcije cilja \n",
    "$$\n",
    "J(\\Theta) = \\sum_{i=1}^m\\log{}(1 + \\exp(-y^{(i)}\\Theta^Tx^{(i)})),\n",
    "$$\n",
    "što postižemo primjenom gradijentne metode ili nekog drugog optimizacijskog algoritma"
   ]
  },
  {
   "cell_type": "code",
   "execution_count": null,
   "id": "d698ce12-ebbf-4117-839b-df28076a0b07",
   "metadata": {},
   "outputs": [],
   "source": [
    "def lr_contour(X, y, model):\n",
    "    plt.scatter(X[:, 0], X[:, 1], c=y)\n",
    "    ax = plt.gca()\n",
    "    xlim = ax.get_xlim()\n",
    "    ylim = ax.get_ylim()\n",
    "\n",
    "    xx, yy = np.meshgrid(np.linspace(xlim[0], xlim[1], 1000),\n",
    "                         np.linspace(ylim[0], ylim[1], 1000))\n",
    "    Z = model.predict(np.c_[xx.ravel(), yy.ravel()])\n",
    "    Z = Z.reshape(xx.shape)\n",
    "\n",
    "    plt.contourf(xx, yy, Z, cmap='spring', alpha=0.2)\n",
    "    plt.show()"
   ]
  },
  {
   "cell_type": "code",
   "execution_count": null,
   "id": "413d1dfe-d201-4633-a557-56f410f40b1f",
   "metadata": {},
   "outputs": [],
   "source": [
    "X = np.array([[-3.78,3.96],[-3.98,3.8],[-0.95,5.18],[-2.71,4],[-0.6,4.31],[-2.58,4.65],[-2.54,4.28],[-3.55,1.62],[-3.13,4.4],[-1.93,5.62]])\n",
    "y = np.array([-1, -1, 1, 1, 1, 1, -1, -1, -1, 1])\n",
    "\n",
    "lr = LogisticRegression().fit(X, y)\n",
    "lr_contour(X, y, lr)"
   ]
  },
  {
   "cell_type": "code",
   "execution_count": null,
   "id": "a0daa9a9-0d96-4102-983e-68003e8129bc",
   "metadata": {},
   "outputs": [],
   "source": [
    "a_df = pd.read_csv('./Podaci/A.csv')\n",
    "X_a = a_df[['x1', 'x2']].to_numpy()\n",
    "y_a = a_df['y'].to_numpy()\n",
    "lr_a = LogisticRegression().fit(X_a, y_a)\n",
    "lr_contour(X_a, y_a, lr_a)"
   ]
  },
  {
   "cell_type": "markdown",
   "id": "29f0db76-c27c-4444-9045-59f32cdcaed4",
   "metadata": {},
   "source": [
    "## Linearna regresija kao klasifikacijski model\n",
    "Neka su zadani podaci (u obliku matrice dizajna) $X\\in \\mathbb{R}^{m \\times n}$ i njihove pripadne klase $y\\in \\{-1,1\\}^m$. Pokušajmo riješiti problem učenjem modela linearne regresije.\n",
    "\n",
    "Tražimo parametre $\\Theta \\in \\mathbb{R}^n, \\theta_0 \\in \\mathbb{R}$ takve da minimiziraju funkciju cilja \n",
    "$$\n",
    "J(\\Theta, \\theta_0) = \\sum\\limits_{i=1}^m (h_{\\Theta, \\theta_0}(x^{(i)}) - y^{(i)})^2,$$\n",
    "gdje je $h_{\\Theta, \\theta_0}(x) = \\theta_0 + \\theta_1 x_1 + \\dots + \\theta_n x_n$. \n",
    "\n",
    "Vrijednost model-funkcije koristimo za interpretaciju pripadnosti klase:\n",
    " - ako je $h_{\\Theta, \\theta_0}(x) > 0$, onda je $y = 1$,\n",
    " - ako je $h_{\\Theta, \\theta_0}(x) < 0$, onda je $y = -1$."
   ]
  },
  {
   "cell_type": "code",
   "execution_count": null,
   "id": "fc20bfad-7412-41c8-a8f8-b6633d8df62f",
   "metadata": {},
   "outputs": [],
   "source": [
    "X, y = make_blobs(n_samples=10000, n_features=2, centers=2, random_state=125)\n",
    "X_train, X_test, y_train, y_test = train_test_split(X, y, test_size=0.2, random_state=321)\n",
    "y_train[y_train==0]=-1\n",
    "y_test[y_test==0]=-1\n",
    "\n",
    "lr = LinearRegression().fit(X_train, y_train)\n",
    "log = LogisticRegression().fit(X_train, y_train)\n",
    "rdg = RidgeClassifier().fit(X_train, y_train)"
   ]
  },
  {
   "cell_type": "code",
   "execution_count": null,
   "id": "0213ca7c-d130-4c6d-bff3-bc737534f2aa",
   "metadata": {},
   "outputs": [],
   "source": [
    "y_pred = lr.predict(X_test)\n",
    "y_pred[y_pred > 0] = 1\n",
    "y_pred[y_pred < 0] = -1\n",
    "accuracy = np.sum(y_pred == y_test) / len(y_test)\n",
    "print(f'Accuracy modela linearne regresije = {accuracy}')"
   ]
  },
  {
   "cell_type": "code",
   "execution_count": null,
   "id": "46f3f59f-b759-40a6-ad57-7ba5e533a11e",
   "metadata": {},
   "outputs": [],
   "source": [
    "y_pred = log.predict(X_test)\n",
    "accuracy = np.sum(y_pred == y_test) / len(y_test)\n",
    "print(f'Accuracy modela logističke regresije = {accuracy}')"
   ]
  },
  {
   "cell_type": "code",
   "execution_count": null,
   "id": "de618883-a5ae-47d0-9d55-6f1ee55457c2",
   "metadata": {},
   "outputs": [],
   "source": [
    "y_pred = rdg.predict(X_test)\n",
    "accuracy = np.sum(y_pred == y_test) / len(y_test)\n",
    "print(f'Accuracy modela ridge klasifikatora = {accuracy}')"
   ]
  },
  {
   "cell_type": "code",
   "execution_count": null,
   "id": "5ea24750-4b4b-434a-bd30-701b411fffc4",
   "metadata": {},
   "outputs": [],
   "source": [
    "plt.scatter(X_test[:, 0], X_test[:, 1], c=y_test)\n",
    "ax = plt.gca()\n",
    "xlim = ax.get_xlim()\n",
    "ylim = ax.get_ylim()\n",
    "\n",
    "xx, yy = np.meshgrid(np.linspace(xlim[0], xlim[1], 1000),\n",
    "                     np.linspace(ylim[0], ylim[1], 1000))\n",
    "Z = lr.predict(np.c_[xx.ravel(), yy.ravel()])\n",
    "Z = Z.reshape(xx.shape)\n",
    "\n",
    "\n",
    "plt.contourf(xx, yy, Z, levels=[-100, 0, 100], cmap='spring', alpha=0.2)\n",
    "plt.show()"
   ]
  },
  {
   "cell_type": "markdown",
   "id": "9273eb70-9691-4f2c-afa7-bca0e1688ec1",
   "metadata": {},
   "source": [
    "## Matrica zabune\n",
    "Pretpostavimo da je zadan problem određivanja zdravlja pacijenta na temelju nekakvih nalaza. Očito je da bolesne pacijente želimo zadržati na liječenju, a zdrave otpustiti. Postoje sljedeće četiri mogućnosti:\n",
    " - zdravom pacijentu (oznaka 0) smo predvidjeli da je zdrav (oznaka 0)\n",
    " - zdravom pacijentu (oznaka 0) smo predvidjeli da je bolestan (oznaka 1) - **greška 1. vrste**\n",
    " - bolesnom pacijentu (oznaka 1) smo predvidjeli da je bolestan (oznaka 1)\n",
    " - bolesnom pacijentu (oznaka 1) smo predvidjeli da je zdrav (oznaka 0) - **greška 2. vrste**\n",
    "\n",
    "Ovisno o vrsti greške koju model napravi, moguće je da zdravog pacijenta zadržimo na dodatnom liječenju (što je donekle u redu), ili da bolesnog pacijenta otpustimo (što nikako nije u redu).\n",
    "\n",
    "Ako želimo osigurati da bolesni pacijenti budu zadržani na liječenju, možemo konstruirati model koji će uvijek vraćati oznaku 1. Međutim, tada i sve zdrave pacijente zadržavamo. \n",
    "\n",
    "Za bolju evaluaciju rezultata uvodimo nove oznake i metrike. Pretpostavimo da se skup na kojem evaluiramo model sastoji od $m$ elemenata.\n",
    " - TP (true positive) $= |\\{i : h(x^{(i)}) = y^{(i)} = 1\\}|$, broj bolesnih pacijenata koje smo točno klasificirali\n",
    " - FP (false positive) $= |\\{i : h(x^{(i)}) = 1, y^{(i)} = 0\\}|$, broj zdravih pacijenata koje smo klasificirali kao bolesne\n",
    " - TN (true negative) $= |\\{i : h(x^{(i)}) = y^{(i)} = 0\\}|$, broj zdravih pacijenata koje smo točno klasificirali\n",
    " - FN (false negative) $= |\\{i : h(x^{(i)}) = 0, y^{(i)} = 1\\}|$, broj bolesnih pacijenata koje smo klasificirali kao zdrave\n",
    " \n",
    "Definiramo metrike **precision** i **recall** kao\n",
    "$$\n",
    "\\textrm{Precision} = \\frac{TP}{TP + FP} \\\\\n",
    "\\textrm{Recall} = \\frac{TP}{TP + FN}\n",
    "$$"
   ]
  },
  {
   "cell_type": "markdown",
   "id": "eeccfc70-d2fc-4534-82a2-03bcd9b1e81a",
   "metadata": {},
   "source": [
    "<center><img src=\"Precisionrecall.svg\"/></center>\n",
    "\n",
    "Grafički prikaz precision i recall metrika, preuzet s [Wikipedije](https://en.wikipedia.org/wiki/Precision_and_recall)."
   ]
  },
  {
   "cell_type": "markdown",
   "id": "8b3a4546-dd7f-4d58-9bbd-7befacaa1746",
   "metadata": {},
   "source": [
    "Rezultate možemo zapisati u tzv. **matricu zabune**, tablicu frekvencija gdje je svaki element frekvencija jedne od izračunatih klasa.\n",
    "\n",
    "U [scikit-learn](https://scikit-learn.org/stable/modules/generated/sklearn.metrics.confusion_matrix.html) se nalazi funkcija koja računa matricu zabune.\n",
    "\n",
    "Matrica zabune se također može generalizirati na problem klasifikacije s više klasa."
   ]
  },
  {
   "cell_type": "code",
   "execution_count": null,
   "id": "fa31c51f-ae61-4d4f-9315-1e430ed980f1",
   "metadata": {},
   "outputs": [],
   "source": [
    "y_true = [0, 0, 0, 0, 0, 0, 0, 0, 1, 1, 1, 1]\n",
    "y_pred = [0, 0, 1, 1, 0, 0, 0, 1, 1, 1, 0, 0]\n",
    "confusion_matrix(y_true, y_pred)"
   ]
  },
  {
   "cell_type": "markdown",
   "id": "233e2fa9-e3fb-4b14-b6ce-fd3a203bfb28",
   "metadata": {},
   "source": [
    "## Zadatak\n",
    "Konstruirajte umjetan skup podataka koji nije linearno separabilan, podijelite ga na skup za treniranje i testiranje, naučite SVM model i ispišite matricu zabune na skupu za testiranje."
   ]
  },
  {
   "cell_type": "markdown",
   "id": "b5507ecb-fb63-4c9b-b10e-a08a4af09c18",
   "metadata": {},
   "source": [
    "## Klasifikacija sa više klasa\n",
    "Problem koji ćemo pokušati riješiti je klasifikacija znamenaka. Svaki podatak je slika na kojoj se nalazi jedna znamenka i pripadna znamenka."
   ]
  },
  {
   "cell_type": "markdown",
   "id": "2fc3b9ac-7a4b-40b0-a98c-ed13f56f891e",
   "metadata": {},
   "source": [
    "### OvR\n",
    "Za svaku od $k$ klasa konstruiramo binarni klasifikator, od kojih $i$-ti određuje je li dana znamenka jednaka $i$ ili različita od $i$.\n",
    "\n",
    "Kao rezultat uzimamo onu klasu kojoj je pridružena najveća vjerojatnost (ili nekakav drugi skor)."
   ]
  },
  {
   "cell_type": "code",
   "execution_count": null,
   "id": "8940aa59-ac37-429f-aaaf-5a44d6f382ae",
   "metadata": {},
   "outputs": [],
   "source": [
    "digits = load_digits()\n",
    "X_train, X_test, y_train, y_test = train_test_split(digits.data, digits.target, test_size=0.3)"
   ]
  },
  {
   "cell_type": "code",
   "execution_count": null,
   "id": "cd1ffa1a-32d1-4782-ac03-ffa6af2b3bf7",
   "metadata": {},
   "outputs": [],
   "source": [
    "fig, axs = plt.subplots(nrows=1, ncols=5,figsize=(15,15))\n",
    "for ax in axs:\n",
    "    x = np.random.randint(9)\n",
    "    ax.imshow(digits.data[x].reshape(8,8), cmap=plt.cm.binary)\n",
    "    ax.set_xlabel('x-label', fontsize=12)\n",
    "    ax.set_ylabel('y-label', fontsize=12)\n",
    "    ax.set_title(digits.target[x], fontsize=14)\n",
    "    ax.axis('off')"
   ]
  },
  {
   "cell_type": "code",
   "execution_count": null,
   "id": "b4f090f6-4d51-47df-b99b-035d3af4f0dd",
   "metadata": {},
   "outputs": [],
   "source": [
    "def train(X, y, digit):\n",
    "    clf = SVC(probability=True, kernel='linear', gamma='auto')\n",
    "    y = np.array([1 if i == digit else -1 for i in y])\n",
    "    clf.fit(X, y)\n",
    "    return clf\n",
    "\n",
    "def predict(X, models):\n",
    "    predictions = np.zeros((X.shape[0], 10))\n",
    "    for i, model in enumerate(models):\n",
    "        pred = model.predict_proba(X)[:, 1]\n",
    "        predictions[:, i] = pred\n",
    "    return np.argmax(predictions, axis=1)"
   ]
  },
  {
   "cell_type": "code",
   "execution_count": null,
   "id": "29ce05f9-3854-4c70-8647-47dfdb4bd1e9",
   "metadata": {},
   "outputs": [],
   "source": [
    "models = []\n",
    "for digit in range(10):\n",
    "    models.append(train(X_train, y_train, digit))\n",
    "\n",
    "y_pred = predict(X_test, models)\n",
    "np.sum(y_pred == y_test) / len(y_test)"
   ]
  },
  {
   "cell_type": "code",
   "execution_count": null,
   "id": "3e441381-a08b-447d-b73e-640b0c062a21",
   "metadata": {},
   "outputs": [],
   "source": [
    "fig, axs = plt.subplots(nrows=3, ncols=3,figsize=(15,15))\n",
    "for i, ax in enumerate(axs.flat):\n",
    "    ax.imshow(X_test[i].reshape(8,8), cmap=plt.cm.binary)\n",
    "    ax.set_title(f'y = {y_test[i]}, y_pred = {y_pred[i]}')\n",
    "    ax.axis('off')"
   ]
  },
  {
   "cell_type": "markdown",
   "id": "c7a1f436-7c2a-45d2-a9f3-290e944988b1",
   "metadata": {},
   "source": [
    "Na isti način možemo iskorisiti model logističke regresije."
   ]
  },
  {
   "cell_type": "markdown",
   "id": "1459b87f-eed9-4f47-bbf6-12165896c6a1",
   "metadata": {},
   "source": [
    "### OvO\n",
    "Drugi način klasifikacije je treniranje $\\frac{k(k-1)}{2}$ modela od kojih svaki računa skorove za $i$-tu, odnosno $j$-tu klasu.\n",
    "\n",
    "Možete naslutiti da je treniranje OvO sporije od OvR jer je potrebno naučiti $O(k^2)$ različitih modela. Ipak, za učenje modela $i,j$ koristi se podskup skupa za treniranje gdje su svi podaci klase $i$ ili $j$, što donekle ubrzava učenje."
   ]
  },
  {
   "cell_type": "code",
   "execution_count": null,
   "id": "3fd39e9c-ccfb-472b-bdb5-5e252da67349",
   "metadata": {},
   "outputs": [],
   "source": [
    "%%timeit\n",
    "ovo = OneVsOneClassifier(SVC(random_state=123)).fit(X_train, y_train)"
   ]
  },
  {
   "cell_type": "code",
   "execution_count": null,
   "id": "bb9ad847-ab05-42d7-b12f-f9398cb911b3",
   "metadata": {},
   "outputs": [],
   "source": [
    "%%timeit\n",
    "ovr = OneVsRestClassifier(SVC(random_state=123)).fit(X_train, y_train)"
   ]
  },
  {
   "cell_type": "markdown",
   "id": "cce49763-f8de-45dc-a2cc-8450b0664e1d",
   "metadata": {},
   "source": [
    "### Ugrađena višeklasna klasifikacija\n",
    "U ugrađenom SVM solveru su dostupne OvO i OvR strategije.\n",
    "\n",
    "U modelu logističke regresije dostupni su OvO i multinomna strategija."
   ]
  },
  {
   "cell_type": "code",
   "execution_count": null,
   "id": "042d0027-35ac-40bd-a2f5-3b5d4c13fcc3",
   "metadata": {},
   "outputs": [],
   "source": [
    "X, y = make_blobs(n_samples=10000, n_features=2, centers=3, random_state=123)\n",
    "plt.scatter(X[:,0], X[:,1], c=y)"
   ]
  },
  {
   "cell_type": "code",
   "execution_count": null,
   "id": "abe48236-c0bf-4b89-9eef-4204d5a3a9e4",
   "metadata": {},
   "outputs": [],
   "source": [
    "X_train, X_test, y_train, y_test = train_test_split(X, y, test_size=0.3)\n",
    "clf = SVC().fit(X_train, y_train)\n",
    "np.sum(y_test == clf.predict(X_test)) / len(y_test)"
   ]
  },
  {
   "cell_type": "code",
   "execution_count": null,
   "id": "5a468bba-e349-42de-8c6d-e1070f8b8ea4",
   "metadata": {},
   "outputs": [],
   "source": [
    "X_train, X_test, y_train, y_test = train_test_split(X, y, test_size=0.3)\n",
    "clf = LogisticRegression(multi_class='multinomial').fit(X_train, y_train)\n",
    "np.sum(y_test == clf.predict(X_test)) / len(y_test)"
   ]
  }
 ],
 "metadata": {
  "kernelspec": {
   "display_name": "Python 3 (ipykernel)",
   "language": "python",
   "name": "python3"
  },
  "language_info": {
   "codemirror_mode": {
    "name": "ipython",
    "version": 3
   },
   "file_extension": ".py",
   "mimetype": "text/x-python",
   "name": "python",
   "nbconvert_exporter": "python",
   "pygments_lexer": "ipython3",
   "version": "3.9.2"
  }
 },
 "nbformat": 4,
 "nbformat_minor": 5
}
