{
 "cells": [
  {
   "cell_type": "markdown",
   "id": "22666dbe-b868-41ba-b753-8ef8b50d5482",
   "metadata": {},
   "source": [
    "# Vježbe 4 - dio 1\n",
    " - Analiza domaće zadaće"
   ]
  },
  {
   "cell_type": "code",
   "execution_count": null,
   "id": "155e2e0a-100f-4bc2-a15e-eaca92a7f9f2",
   "metadata": {},
   "outputs": [],
   "source": [
    "import numpy as np\n",
    "import matplotlib.pyplot as plt\n",
    "import pandas as pd\n",
    "from sklearn.svm import SVC, LinearSVC\n",
    "\n",
    "plt.rcParams[\"figure.figsize\"] = (7, 7)"
   ]
  },
  {
   "cell_type": "markdown",
   "id": "0ab79f08-063a-40cc-993a-236e402c89dd",
   "metadata": {},
   "source": [
    "## Zadatak 1 (5 bodova)\n",
    "**Hinge-loss** funkcija $\\ell_{hinge} : \\mathbb{R} \\to \\mathbb{R}$ je zadana s\n",
    "$$\n",
    "\\ell_{hinge}(x) = \\max{(0, 1 - x)}.\n",
    "$$\n",
    "Dokažite da je ta funkcija konveksna. Koristeći *matplotlib* nacrtajte graf te funkcije."
   ]
  },
  {
   "cell_type": "code",
   "execution_count": null,
   "id": "02a538aa-c11e-4b33-8f61-9a465a665f5f",
   "metadata": {},
   "outputs": [],
   "source": [
    "def l_hinge(x):\n",
    "    return np.where(1 - x < 0, 0., 1 - x)  \n",
    "\n",
    "xx = np.linspace(-10, 10, 1000)\n",
    "yy = l_hinge(xx)\n",
    "plt.plot(xx, yy)"
   ]
  },
  {
   "cell_type": "markdown",
   "id": "05690db5-8bda-47ef-ad63-30605b829e1e",
   "metadata": {},
   "source": [
    "---\n",
    "Ovdje napišite svoj odgovor."
   ]
  },
  {
   "cell_type": "markdown",
   "id": "69b6c0ff-ae94-46ab-a4cf-bf1e52ee9b30",
   "metadata": {},
   "source": [
    "## Zadatak 2 (15 bodova)\n",
    "Na predavanju i vježbama zadali smo optimizacijski problem \n",
    "$$\n",
    "\\textrm{argmin}_{\\Theta, \\theta_0, \\xi}\\frac{1}{2}||\\Theta||^2 + C\\sum\\limits_{i=1}^m \\xi_i\n",
    "$$\n",
    " \n",
    "$$\n",
    "\\text{  uz uvjet  } y^{(i)}(\\Theta^T x^{(i)} + \\theta_0) \\geq 1 - \\xi_i \\textrm{ i } \\xi_i \\geq 0, \\text{ }  i = 1, 2, \\dots, m,\n",
    "$$\n",
    "\n",
    "Promotrite sljedeći optimizacijski problem:\n",
    "$$\n",
    "\\textrm{argmin}_{\\Theta, \\theta_0}\\frac{1}{2}||\\Theta||^2 + C\\sum\\limits_{i=1}^m\\ell_{hinge}(y^{(i)}(\\Theta^T x^{(i)} + \\theta_0)).\n",
    "$$\n",
    "\n",
    "Dokažite da su ovi optimizacijski problemi ekvivalentni. Drugim riječima:\n",
    " 1. Ako je $(\\Theta^*, \\theta_0^*, \\xi^*)$ rješenje prvog optimizacijskog problema, onda je $(\\Theta^*, \\theta_0^*)$ rješenje drugog optimizacijskog problema.\n",
    " 2. Ako je $(\\Theta^*, \\theta_0^*)$ rješenje drugog optimizacijskog problema, onda postoji $\\xi^*$ takav da je $(\\Theta^*, \\theta_0^*, \\xi^*)$ rješenje prvog optimizacijskog problema.\n",
    " \n",
    " Parametar $\\xi$ ovdje promatramo kao vektor $(\\xi_1, \\dots, \\xi_m)^T$."
   ]
  },
  {
   "cell_type": "markdown",
   "id": "5b662262-1d2b-49e5-aaee-d3bd5c266deb",
   "metadata": {},
   "source": [
    "---\n",
    "Ovdje napišite svoj odgovor."
   ]
  },
  {
   "cell_type": "markdown",
   "id": "6984b0f3-dc9e-40dc-b323-0dd2f2b748ee",
   "metadata": {},
   "source": [
    "---\n",
    "## Zadatak 3 (5 bodova)\n",
    "Logistička funkcija je zadana s \n",
    "$$\n",
    "\\sigma{(x)} = \\frac{1}{1 + \\exp{(-x)}}.\n",
    "$$\n",
    "1. Dokažite da vrijedi $\\sigma{(-x)} = 1 - \\sigma{(x)}$.\n",
    "\n",
    "2. Izračunajte derivaciju funkcije $\\sigma$."
   ]
  },
  {
   "cell_type": "markdown",
   "id": "5b3051f1-66ce-419f-bc07-97d9bb9fdd17",
   "metadata": {},
   "source": [
    "---\n",
    "Ovdje napišite svoj odgovor."
   ]
  },
  {
   "cell_type": "markdown",
   "id": "a5dfeed0-02d1-4b2d-9792-4e451b6f290a",
   "metadata": {},
   "source": [
    "---\n",
    "## Zadatak 4 (10 bodova)\n",
    "Izračunajte gradijent *maximum likelihood* kriterijske funkcije $J : \\mathbb{R}^n \\to \\mathbb{R}$ zadane s\n",
    "$$\n",
    "J(\\Theta) = \\sum_{i=1}^m\\log{}(1 + \\exp(-y^{(i)}\\Theta^Tx^{(i)})).\n",
    "$$"
   ]
  },
  {
   "cell_type": "markdown",
   "id": "8363bdaa-b8c6-4027-8a08-b200a9746b85",
   "metadata": {},
   "source": [
    "---\n",
    "Ovdje napišite svoj odgovor."
   ]
  },
  {
   "cell_type": "markdown",
   "id": "30e65e60-e150-4d7f-bd5d-9f03b0cbf2b8",
   "metadata": {},
   "source": [
    "---\n",
    "## Zadatak 5 (15 bodova)\n",
    "Učitajte podatke iz prošle zadaće (*A.csv*, *B.csv* i *C.csv*). Za svaki od njih učinite sljedeće:\n",
    "\n",
    "1. Konstruirajte SVM model primjenom *LinearSVC* klase iz *sklearn.svm*.\n",
    "\n",
    "2. Ispišite parametre $\\theta_0$ i $\\Theta$.\n",
    "\n",
    "3. Izračunajte i ispišite potporne vektore.\n",
    "\n",
    "4. Izračunajte geometrijsku marginu.\n",
    "\n",
    "5. Grafički prikažite podatke, dobivenu hiperravninu koja razdvaja podatke, te potporne vektore.\n",
    "\n",
    "6. Usporedite vrijednosti geometrijske margine dobivene perceptron algoritmom i SVM modelom. Za perceptron algoritam možete iskoristiti implementaciju iz prošle zadaće (odnosno vježbi)."
   ]
  },
  {
   "cell_type": "code",
   "execution_count": null,
   "id": "d6a7d003-acc1-4c5d-a7dd-f4b9d58765eb",
   "metadata": {},
   "outputs": [],
   "source": [
    "a_df = pd.read_csv('./Podaci/A.csv')\n",
    "X_a = a_df[['x1', 'x2']].to_numpy()\n",
    "y_a = a_df['y'].to_numpy()\n",
    "\n",
    "clf_a = LinearSVC()\n",
    "clf_a.fit(X_a, y_a)\n",
    "\n",
    "print(f'theta   = {clf_a.coef_.squeeze()}')\n",
    "print(f'theta_0 = {clf_a.intercept_}')\n",
    "\n",
    "dec_func = clf_a.decision_function(X_a)\n",
    "support_vector_indices = np.where(np.abs(dec_func) <= 1 + 1e-15)\n",
    "support_vectors = X_a[support_vector_indices]\n",
    "\n",
    "print(f'Potporni vektori su\\n{support_vectors}')\n",
    "\n",
    "plt.scatter(X_a[:, 0], X_a[:, 1], c=y_a)\n",
    "ax = plt.gca()\n",
    "xlim = ax.get_xlim()\n",
    "ylim = ax.get_ylim()\n",
    "\n",
    "xx, yy = np.meshgrid(np.linspace(xlim[0], xlim[1], 1000),\n",
    "                     np.linspace(ylim[0], ylim[1], 1000))\n",
    "Z = clf_a.decision_function(np.c_[xx.ravel(), yy.ravel()])\n",
    "Z = Z.reshape(xx.shape)\n",
    "\n",
    "plt.contour(xx, yy, Z, levels=[-1,0,1], alpha=0.5, linestyles=['--', '-', '--'])\n",
    "plt.scatter(support_vectors[:, 0], support_vectors[:, 1], s=100, marker='*', color='red')"
   ]
  },
  {
   "cell_type": "code",
   "execution_count": null,
   "id": "26d12d78-08e6-48b6-89be-e104e8f39ac2",
   "metadata": {},
   "outputs": [],
   "source": [
    "b_df = pd.read_csv('./Podaci/B.csv')\n",
    "X_b = b_df[['x1', 'x2']].to_numpy()\n",
    "y_b = b_df['y'].to_numpy()\n",
    "\n",
    "clf_b = LinearSVC(max_iter=100000)\n",
    "clf_b.fit(X_b, y_b)\n",
    "\n",
    "print(f'theta   = {clf_b.coef_.squeeze()}')\n",
    "print(f'theta_0 = {clf_b.intercept_}')\n",
    "\n",
    "dec_func = clf_b.decision_function(X_b)\n",
    "support_vector_indices = np.where(np.abs(dec_func) <= 1 + 1e-15)\n",
    "support_vectors = X_b[support_vector_indices]\n",
    "\n",
    "print(f'Potporni vektori su\\n{support_vectors}')\n",
    "\n",
    "plt.scatter(X_b[:, 0], X_b[:, 1], c=y_b)\n",
    "ax = plt.gca()\n",
    "xlim = ax.get_xlim()\n",
    "ylim = ax.get_ylim()\n",
    "\n",
    "xx, yy = np.meshgrid(np.linspace(xlim[0], xlim[1], 1000),\n",
    "                     np.linspace(ylim[0], ylim[1], 1000))\n",
    "Z = clf_b.decision_function(np.c_[xx.ravel(), yy.ravel()])\n",
    "Z = Z.reshape(xx.shape)\n",
    "\n",
    "plt.contour(xx, yy, Z, levels=[-1,0,1], alpha=0.5, linestyles=['--', '-', '--'])\n",
    "plt.scatter(support_vectors[:, 0], support_vectors[:, 1], s=100, marker='*', color='red')"
   ]
  },
  {
   "cell_type": "code",
   "execution_count": null,
   "id": "f15a300c-2e0b-48fa-b593-5f207ed10f25",
   "metadata": {},
   "outputs": [],
   "source": [
    "c_df = pd.read_csv('./Podaci/C.csv')\n",
    "X_c = c_df[['x1', 'x2']].to_numpy()\n",
    "y_c = c_df['y'].to_numpy()\n",
    "\n",
    "clf_c = LinearSVC()\n",
    "clf_c.fit(X_c, y_c)\n",
    "\n",
    "print(f'theta   = {clf_c.coef_.squeeze()}')\n",
    "print(f'theta_0 = {clf_c.intercept_}')\n",
    "\n",
    "dec_func = clf_c.decision_function(X_c)\n",
    "support_vector_indices = np.where(np.abs(dec_func) <= 1 + 1e-15)\n",
    "support_vectors = X_c[support_vector_indices]\n",
    "\n",
    "print(f'Potporni vektori su\\n{support_vectors}')\n",
    "\n",
    "plt.scatter(X_c[:, 0], X_c[:, 1], c=y_c)\n",
    "ax = plt.gca()\n",
    "xlim = ax.get_xlim()\n",
    "ylim = ax.get_ylim()\n",
    "\n",
    "xx, yy = np.meshgrid(np.linspace(xlim[0], xlim[1], 1000),\n",
    "                     np.linspace(ylim[0], ylim[1], 1000))\n",
    "Z = clf_c.decision_function(np.c_[xx.ravel(), yy.ravel()])\n",
    "Z = Z.reshape(xx.shape)\n",
    "\n",
    "plt.contour(xx, yy, Z, levels=[-1,0,1], alpha=0.5, linestyles=['--', '-', '--'])\n",
    "plt.scatter(support_vectors[:, 0], support_vectors[:, 1], s=100, marker='*', color='red')"
   ]
  },
  {
   "cell_type": "markdown",
   "id": "f7fb2b50-f254-4b6f-8dd0-0fa401a8384c",
   "metadata": {},
   "source": [
    "### Geometrijske margine"
   ]
  },
  {
   "cell_type": "code",
   "execution_count": null,
   "id": "ee55b1d8-7334-48ca-b80a-b900c388f280",
   "metadata": {},
   "outputs": [],
   "source": [
    "print(f'Geometrijska margina A: {1 / np.linalg.norm(clf_a.coef_.squeeze())}')\n",
    "print(f'Geometrijska margina B: {1 / np.linalg.norm(clf_b.coef_.squeeze())}')\n",
    "print(f'Geometrijska margina C: {1 / np.linalg.norm(clf_c.coef_.squeeze())}')"
   ]
  },
  {
   "cell_type": "markdown",
   "id": "293f88fc-8126-4131-a75e-2cf8b63ec482",
   "metadata": {},
   "source": [
    "### Usporedba s perceptronom"
   ]
  },
  {
   "cell_type": "code",
   "execution_count": null,
   "id": "5d15b34d-13a9-4a13-8bd4-6680b99c9cfa",
   "metadata": {},
   "outputs": [],
   "source": [
    "class Perceptron:\n",
    "    def __init__(self):\n",
    "        self.theta = None\n",
    "        self.k_total = None\n",
    "        \n",
    "    def fit(self, X, y, max_iter=100000):       \n",
    "        m = X.shape[0]\n",
    "        n = X.shape[1] + 1\n",
    "        self.theta = np.zeros(n)\n",
    "        \n",
    "        X = np.concatenate((np.ones((m, 1)), X), axis=1)\n",
    "        self.k_total = 0\n",
    "        while self.k_total < max_iter:\n",
    "            k = 0\n",
    "            for i in range(m):\n",
    "                if y[i] != np.sign(np.dot(self.theta, X[i])):\n",
    "                    k += 1\n",
    "                    self.theta += (y[i] * X[i])\n",
    "            self.k_total += k\n",
    "            if k == 0:\n",
    "                break\n",
    "                \n",
    "def dist(x, theta):\n",
    "    \"\"\"Udaljenost tocke x od hiperravnine zadane parametrom theta\n",
    "    x.shape = (n,)\n",
    "    theta.shape = (n+1,)\n",
    "    \"\"\"\n",
    "    return abs(np.dot(x, theta[1:]) + theta[0]) / np.linalg.norm(theta[1:])"
   ]
  },
  {
   "cell_type": "code",
   "execution_count": null,
   "id": "0e44ab59-23e7-4523-b5f5-68e90cbff9f6",
   "metadata": {},
   "outputs": [],
   "source": [
    "p_a = Perceptron()\n",
    "p_a.fit(X_a, y_a)\n",
    "\n",
    "p_b = Perceptron()\n",
    "p_b.fit(X_b, y_b)\n",
    "\n",
    "p_c = Perceptron()\n",
    "p_c.fit(X_c, y_c)\n",
    "\n",
    "gama_a = min([dist(x, p_a.theta) for x in X_a])\n",
    "gama_b = min([dist(x, p_b.theta) for x in X_b])\n",
    "gama_c = min([dist(x, p_c.theta) for x in X_c])\n",
    "\n",
    "print(f'Geometrijska margina A: {gama_a}')\n",
    "print(f'Geometrijska margina B: {gama_b}')\n",
    "print(f'Geometrijska margina C: {gama_c}')"
   ]
  },
  {
   "cell_type": "markdown",
   "id": "c1cafcb8-bdb3-41bd-8ef4-11b138db8b3c",
   "metadata": {},
   "source": [
    "---\n",
    "## Zadatak 6 (10 bodova)\n",
    "Učitajte podatke iz skupa *B.csv*. Promotrite što se događa s rezultatima SVM modela ako slučajnim odabirom uklonite dio podataka:\n",
    "\n",
    "1. Slučajnim odabirom odaberite 1000 (od ukupno 2000) točaka i pripadnih klasa.\n",
    "\n",
    "2. Konstruirajte SVM model primjenom *SVC* klase iz *sklearn.svm* sa `kernel='linear'`.\n",
    "\n",
    "3. Grafički prikažite podatke, dobivenu hiperravninu koja razdvaja podatke, te potporne vektore.\n",
    "\n",
    "**Ovaj proces ponovite 10 puta** i interpretirajte razlike ili sličnosti u dobivenim rezultatima. Što možete zaključiti o ulozi potpornih vektora?"
   ]
  },
  {
   "cell_type": "code",
   "execution_count": null,
   "id": "7f149610-f875-4254-84e5-93a6a67b752b",
   "metadata": {},
   "outputs": [],
   "source": [
    "df = pd.read_csv('./Podaci/B.csv')\n",
    "X = df[['x1', 'x2']].to_numpy()\n",
    "y = df['y'].to_numpy()\n",
    "m, n = X.shape\n",
    "\n",
    "for i in range(10):\n",
    "    choice = np.random.choice(m, 1000, replace=False)\n",
    "    X_sub = X[choice]\n",
    "    y_sub = y[choice]\n",
    "    clf = SVC(kernel='linear').fit(X_sub, y_sub)\n",
    "    \n",
    "    plt.scatter(X_sub[:, 0], X_sub[:, 1], c=y_sub, s=0.1)\n",
    "    ax = plt.gca()\n",
    "    xlim = ax.get_xlim()\n",
    "    ylim = ax.get_ylim()\n",
    "\n",
    "    xx, yy = np.meshgrid(np.linspace(xlim[0], xlim[1], 1000), np.linspace(ylim[0], ylim[1], 1000))\n",
    "    Z = clf.decision_function(np.c_[xx.ravel(), yy.ravel()])\n",
    "    Z = Z.reshape(xx.shape)\n",
    "\n",
    "    plt.contour(xx, yy, Z, levels=[-1,0,1], alpha=0.5, linestyles=['--', '-', '--'])\n",
    "    plt.scatter(clf.support_vectors_[:, 0], clf.support_vectors_[:, 1], s=100, marker='*', color='red')\n",
    "    plt.show()"
   ]
  },
  {
   "cell_type": "markdown",
   "id": "a42ce98d-626a-4f97-88f3-9aafbb0c9564",
   "metadata": {},
   "source": [
    "Dobivena hiperravnina i margina ovise o malom podskupu podataka na kojima se model trenira."
   ]
  }
 ],
 "metadata": {
  "kernelspec": {
   "display_name": "Python 3 (ipykernel)",
   "language": "python",
   "name": "python3"
  },
  "language_info": {
   "codemirror_mode": {
    "name": "ipython",
    "version": 3
   },
   "file_extension": ".py",
   "mimetype": "text/x-python",
   "name": "python",
   "nbconvert_exporter": "python",
   "pygments_lexer": "ipython3",
   "version": "3.9.2"
  }
 },
 "nbformat": 4,
 "nbformat_minor": 5
}
