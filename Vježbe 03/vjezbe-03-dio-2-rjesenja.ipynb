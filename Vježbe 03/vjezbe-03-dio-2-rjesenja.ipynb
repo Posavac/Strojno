{
 "cells": [
  {
   "cell_type": "markdown",
   "id": "a276defe-e898-4af8-99b8-eff43b599061",
   "metadata": {},
   "source": [
    "# Vježbe 3 - dio 2\n",
    " - SVM algoritam\n",
    " - Uvod u logističku regresiju"
   ]
  },
  {
   "cell_type": "code",
   "execution_count": 2,
   "id": "7fc7b93c-f765-4e89-9b51-a59cb9fdd90b",
   "metadata": {},
   "outputs": [],
   "source": [
    "import numpy as np\n",
    "import matplotlib.pyplot as plt\n",
    "\n",
    "from sklearn.svm import SVC, LinearSVC\n",
    "from sklearn.datasets import make_blobs\n",
    "from sklearn.model_selection import train_test_split\n",
    "from sklearn.linear_model import LogisticRegression\n",
    "\n",
    "plt.rcParams[\"figure.figsize\"] = (6, 6)"
   ]
  },
  {
   "cell_type": "markdown",
   "id": "7068dec5-1197-4e96-a3f8-38e8569271e5",
   "metadata": {},
   "source": [
    "## Što je SVM?\n",
    " - perceptron klasificira linearno separabilan skup podataka\n",
    " - osim same klasifikacijske hiperravnine, želimo pronaći hiperravninu koja **maksimizira** geometrijsku marginu\n",
    " - ako perceptron natreniramo na nekom skupu podataka, velika geometrijska margina nam \"osigurava\" da nove, neviđene točke budu točno klasificirane\n",
    " - kako bismo pronašli takvu hiperravninu, moramo postaviti nekakav optimizacijski problem\n",
    " - ako su podaci linearno separabilni hiperravninom kroz ishodište, onda postoje $\\Theta \\in \\mathbb{R}^n$ i $\\gamma > 0$ takvi da $y^{(i)}\\Theta^T x^{(i)} \\geq \\gamma, \\text{ } i = 1, 2, \\dots, m$\n",
    " - optimizacijski problem možemo postaviti kao\n",
    " $$\n",
    " \\textrm{argmax}_{\\gamma, \\Theta}\\frac{\\gamma}{||\\Theta||}\n",
    " $$\n",
    " \n",
    " $$\n",
    " \\text{  uz uvjet  } y^{(i)}\\Theta^T x^{(i)} \\geq \\gamma, \\text{ }  i = 1, 2, \\dots, m,\n",
    " $$\n",
    " što se može svesti na \n",
    " $$\n",
    " \\textrm{argmin}_{\\gamma, \\Theta}\\frac{1}{2}\\left(\\frac{||\\Theta||}{\\gamma}\\right)^2\n",
    " $$\n",
    " \n",
    " $$\n",
    " \\text{  uz uvjet  } y^{(i)}\\Theta^T x^{(i)} \\geq \\gamma, \\text{ }  i = 1, 2, \\dots, m,\n",
    " $$\n",
    " odnosno\n",
    " $$\n",
    " \\textrm{argmin}_{\\Theta}\\frac{1}{2}||\\Theta||^2\n",
    " $$\n",
    " \n",
    " $$\n",
    " \\text{  uz uvjet  } y^{(i)}\\Theta^T x^{(i)} \\geq 1, \\text{ }  i = 1, 2, \\dots, m,\n",
    " $$\n",
    " \n",
    " - problem se može generalizirati na hiperravninu koja ne prolazi ishodištem\n",
    " $$\n",
    " \\textrm{argmin}_{\\Theta, \\theta_0}\\frac{1}{2}||\\Theta||^2\n",
    " $$\n",
    " \n",
    " $$\n",
    " \\text{  uz uvjet  } y^{(i)}(\\Theta^T x^{(i)} + \\theta_0) \\geq 1, \\text{ }  i = 1, 2, \\dots, m,\n",
    " $$\n",
    " \n",
    " - ako podaci **nisu linearno separabilni**, dozvoljavamo kršenje uvjeta, ali uz penalizaciju koju je potrebno minimizirati\n",
    " $$\n",
    " \\textrm{argmin}_{\\Theta, \\theta_0, \\xi_i}\\frac{1}{2}||\\Theta||^2 + C\\sum\\limits_{i=1}^m \\xi_i\n",
    " $$\n",
    " \n",
    " $$\n",
    " \\text{  uz uvjet  } y^{(i)}(\\Theta^T x^{(i)} + \\theta_0) \\geq 1 - \\xi_i \\textrm{ i } \\xi_i \\geq 0, \\text{ }  i = 1, 2, \\dots, m,\n",
    " $$"
   ]
  },
  {
   "cell_type": "markdown",
   "id": "dd0aa96f-61a0-470f-aac9-9d8149717301",
   "metadata": {},
   "source": [
    "### Scikit-learn implementacija SVM-a\n",
    "Dostupne su implementacije nekoliko algoritama: [SVC](https://scikit-learn.org/stable/modules/generated/sklearn.svm.SVC.html#sklearn.svm.SVC), [LinearSVC](https://scikit-learn.org/stable/modules/generated/sklearn.svm.LinearSVR.html#sklearn.svm.LinearSVC) i [NuSVC](https://scikit-learn.org/stable/modules/generated/sklearn.svm.NuSVC.html#sklearn.svm.NuSVC).\n",
    "\n",
    "Implementacije se razlikuju po algoritmima koje koriste. SVC koristi libsvm, dok LinearSVC koristi liblinear te je puno efikasniji.\n",
    "\n",
    "Možemo dodatno proslijediti **kernel** koji transformira točke u višu dimenziju, ali o tome na nekim kasnijim vježbama."
   ]
  },
  {
   "cell_type": "code",
   "execution_count": 3,
   "id": "6bdebef6-474d-4c7c-b559-08ec295477ea",
   "metadata": {},
   "outputs": [
    {
     "data": {
      "image/png": "[encoded data removed]",
      "text/plain": [
       "<Figure size 432x432 with 1 Axes>"
      ]
     },
     "metadata": {
      "needs_background": "light"
     },
     "output_type": "display_data"
    }
   ],
   "source": [
    "X = np.array([[2,3.5], [2,3], [1,4], [3,3], [5,2], [4,2.25], [6,3]])\n",
    "y = np.array([1, 1, 1, 1, -1, -1, -1])\n",
    "\n",
    "plt.scatter(X[:,0], X[:,1], c=y)\n",
    "plt.show()"
   ]
  },
  {
   "cell_type": "code",
   "execution_count": 11,
   "id": "e1cfc081",
   "metadata": {},
   "outputs": [
    {
     "name": "stdout",
     "output_type": "stream",
     "text": [
      "[[0.78329227 0.33187306]]\n",
      "[0.64662604]\n",
      "1.1755057665267221\n"
     ]
    }
   ],
   "source": [
    "clf = SVC(kernel='linear')\n",
    "clf.fit(X, y)\n",
    "print(clf.coef_)\n",
    "print(clf.intercept_)\n",
    "print(1 / np.linalg.norm(clf.coef_))"
   ]
  },
  {
   "cell_type": "code",
   "execution_count": 5,
   "id": "9613f4d9",
   "metadata": {},
   "outputs": [
    {
     "data": {
      "image/png": "[encoded data removed]",
      "text/plain": [
       "<Figure size 432x432 with 1 Axes>"
      ]
     },
     "metadata": {
      "needs_background": "light"
     },
     "output_type": "display_data"
    }
   ],
   "source": [
    "xx = np.linspace(1, 6, 100)\n",
    "yy = -(clf.coef_[0][0] / clf.coef_[0][1]) * xx - clf.intercept_[0] / clf.coef_[0][1]\n",
    "plt.plot(xx, yy, 'k-')\n",
    "plt.gca().set_aspect('equal')\n",
    "plt.scatter(X[:, 0], X[:, 1], c=y)\n",
    "plt.scatter(clf.support_vectors_[:, 0], clf.support_vectors_[:, 1], marker='*')\n",
    "plt.show()"
   ]
  },
  {
   "cell_type": "markdown",
   "id": "1d5ded45-adae-42de-afa3-afb84a144ef9",
   "metadata": {},
   "source": [
    "### Koliko je LinearSVC brži od SVC?\n",
    "Koristimo `%%time` cell magic za mjerenje vremena izvršavanja ćelije."
   ]
  },
  {
   "cell_type": "code",
   "execution_count": 6,
   "id": "a519e1f4-1427-47f4-90da-d4743421f92f",
   "metadata": {},
   "outputs": [],
   "source": [
    "X, y = make_blobs(n_samples=500000, centers=[(2, 2), (-2, -2)], n_features=2, random_state=1)"
   ]
  },
  {
   "cell_type": "code",
   "execution_count": 7,
   "id": "741471d7",
   "metadata": {},
   "outputs": [
    {
     "name": "stdout",
     "output_type": "stream",
     "text": [
      "Wall time: 1min 9s\n"
     ]
    },
    {
     "data": {
      "text/plain": [
       "SVC(kernel='linear')"
      ]
     },
     "execution_count": 7,
     "metadata": {},
     "output_type": "execute_result"
    }
   ],
   "source": [
    "%%time\n",
    "clf = SVC(kernel='linear')\n",
    "clf.fit(X, y)"
   ]
  },
  {
   "cell_type": "code",
   "execution_count": 8,
   "id": "19c9b9ae",
   "metadata": {},
   "outputs": [
    {
     "name": "stdout",
     "output_type": "stream",
     "text": [
      "886 ms ± 116 ms per loop (mean ± std. dev. of 7 runs, 1 loop each)\n"
     ]
    }
   ],
   "source": [
    "%%timeit\n",
    "clf = LinearSVC()\n",
    "clf.fit(X, y)"
   ]
  },
  {
   "cell_type": "markdown",
   "id": "e4c6622e-90aa-4c54-a090-788364655d10",
   "metadata": {},
   "source": [
    "### Zadatak\n",
    "Generirajte $10^5$ točaka i usporedite brzinu SVC i LinearSVC algoritama. Koristite `%%timeit` cell magic umjesto `%%time` da dobijete prosječno vrijeme izvršavanja.\n",
    "\n",
    "Nakon vježbi pokušajte generirati $10^6$ točaka i provedite isti test."
   ]
  },
  {
   "cell_type": "markdown",
   "id": "df077cce-74b7-4cdf-9d01-5d147f2103fa",
   "metadata": {},
   "source": [
    "### LinearSVC ne računa potporne vektore\n",
    "Pokušat ćemo ih odrediti ručno i naučiti koristiti još neke `matplotlib.pyplot` funkcije. Potporni vektori su oni za koje vrijedi\n",
    "$$\n",
    "\\Theta^Tx + \\theta_0 \\leq 1.\n",
    "$$"
   ]
  },
  {
   "cell_type": "code",
   "execution_count": 9,
   "id": "2ab7256d",
   "metadata": {},
   "outputs": [
    {
     "data": {
      "text/plain": [
       "<matplotlib.collections.PathCollection at 0x2439d7ed910>"
      ]
     },
     "execution_count": 9,
     "metadata": {},
     "output_type": "execute_result"
    },
    {
     "data": {
      "image/png": "[encoded data removed]",
      "text/plain": [
       "<Figure size 432x432 with 1 Axes>"
      ]
     },
     "metadata": {
      "needs_background": "light"
     },
     "output_type": "display_data"
    }
   ],
   "source": [
    "X, y = make_blobs(n_samples=40, centers=2, random_state=1)\n",
    "clf = LinearSVC(random_state=0).fit(X, y)\n",
    "dec_func = clf.decision_function(X)\n",
    "support_vector_indices = np.where(np.abs(dec_func) <= 1 + 1e-15)\n",
    "support_vectors = X[support_vector_indices]\n",
    "\n",
    "plt.scatter(X[:, 0], X[:, 1], c=y)\n",
    "ax = plt.gca()\n",
    "xlim = ax.get_xlim()\n",
    "ylim = ax.get_ylim()\n",
    "\n",
    "xx, yy = np.meshgrid(np.linspace(xlim[0], xlim[1], 1000),\n",
    "                     np.linspace(ylim[0], ylim[1], 1000))\n",
    "Z = clf.decision_function(np.c_[xx.ravel(), yy.ravel()])\n",
    "Z = Z.reshape(xx.shape)\n",
    "\n",
    "plt.contourf(xx, yy, Z, levels=[-100, -1,0,1, 100], alpha=0.5,\n",
    "           linestyles=['--', '-', '--'])\n",
    "plt.scatter(support_vectors[:, 0], support_vectors[:, 1], s=100, linewidth=1,\n",
    "           facecolors='none', edgecolors='k')"
   ]
  },
  {
   "cell_type": "markdown",
   "id": "3f312392-8e0f-42a4-9e39-786ca813d9ea",
   "metadata": {},
   "source": [
    "## Što je logistička regresija?\n",
    "- za model funkciju koristimo logističku (sigmoidnu) funkciju $\\sigma : \\mathbb{R} \\to \\mathbb{R}$, zadanu s $\\sigma(x) = \\frac{1}{1+\\exp{(-x)}}$\n",
    "- model funkcija je oblika $h_{\\Theta}(x) = \\sigma(\\Theta^Tx) = \\frac{1}{1+\\exp{(-\\Theta^Tx)}}$\n",
    "- sigmoidna funkcija preslikava sve na interval $\\langle 0,1 \\rangle$ pa izlaznu vrijednost interpretiramo kao vjerojatnost da podatak $x$ s obzirom na parametar $\\theta$ pripada klasi $1$\n",
    "- kao u SVM ili perceptron modelu, $\\Theta$ definira hiperravninu koja klasificira podatke, sve što je \"ispod\" je klasa 0, sve \"iznad\" klasa 1"
   ]
  },
  {
   "cell_type": "code",
   "execution_count": 10,
   "id": "d8bcb833-4195-4deb-abcd-78bcdb07f16e",
   "metadata": {},
   "outputs": [
    {
     "data": {
      "image/png": "[encoded data removed]",
      "text/plain": [
       "<Figure size 432x432 with 1 Axes>"
      ]
     },
     "metadata": {
      "needs_background": "light"
     },
     "output_type": "display_data"
    }
   ],
   "source": [
    "X = np.array([[-3.78,3.96],[-3.98,3.8],[-0.95,5.18],[-2.71,4],[-0.6,4.31],[-2.58,4.65],[-2.54,4.28],[-3.55,1.62],[-3.13,4.4],[-1.93,5.62]])\n",
    "y = np.array([-1, -1, 1, 1, 1, 1, -1, -1, -1, 1])\n",
    "\n",
    "plt.scatter(X[:,0], X[:,1], c = y)\n",
    "plt.show()"
   ]
  },
  {
   "cell_type": "markdown",
   "id": "f760212e-173d-4ef0-9daa-9804fa4908c2",
   "metadata": {},
   "source": [
    "### O funkcijama gubitka i cilja pričamo na sljedećim vježbama!"
   ]
  }
 ],
 "metadata": {
  "kernelspec": {
   "display_name": "Python 3 (ipykernel)",
   "language": "python",
   "name": "python3"
  },
  "language_info": {
   "codemirror_mode": {
    "name": "ipython",
    "version": 3
   },
   "file_extension": ".py",
   "mimetype": "text/x-python",
   "name": "python",
   "nbconvert_exporter": "python",
   "pygments_lexer": "ipython3",
   "version": "3.9.7"
  }
 },
 "nbformat": 4,
 "nbformat_minor": 5
}
