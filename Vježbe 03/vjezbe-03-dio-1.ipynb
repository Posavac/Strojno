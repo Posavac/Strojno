{
 "cells": [
  {
   "cell_type": "markdown",
   "id": "22666dbe-b868-41ba-b753-8ef8b50d5482",
   "metadata": {},
   "source": [
    "# Vježbe 3 - dio 1\n",
    " - Analiza domaće zadaće"
   ]
  },
  {
   "cell_type": "code",
   "execution_count": null,
   "id": "155e2e0a-100f-4bc2-a15e-eaca92a7f9f2",
   "metadata": {},
   "outputs": [],
   "source": [
    "import numpy as np\n",
    "import matplotlib.pyplot as plt\n",
    "import pandas as pd\n",
    "from sklearn.datasets import make_blobs\n",
    "\n",
    "plt.rcParams[\"figure.figsize\"] = (10, 10)"
   ]
  },
  {
   "cell_type": "markdown",
   "id": "69b6c0ff-ae94-46ab-a4cf-bf1e52ee9b30",
   "metadata": {},
   "source": [
    "## Zadatak 1 (5 bodova)\n",
    "Zadana je hiperravnina $\\Theta{}^Tx + \\theta_0 = 0$ koja ne prolazi kroz ishodište. Dokažite da je vektor $\\Theta$ okomit na tu hiperravninu."
   ]
  },
  {
   "cell_type": "markdown",
   "id": "5b662262-1d2b-49e5-aaee-d3bd5c266deb",
   "metadata": {},
   "source": [
    "---\n",
    "Ovdje napišite svoj odgovor."
   ]
  },
  {
   "cell_type": "markdown",
   "id": "a5dfeed0-02d1-4b2d-9792-4e451b6f290a",
   "metadata": {},
   "source": [
    "---\n",
    "## Zadatak 2 (5 bodova)\n",
    "Dokažite da je udaljenost točke $y \\in \\mathbb{R}^n$ do hiperravnine zadane s $\\Theta^Tx = 0$ jednaka\n",
    "$$\n",
    "\\left|\\frac{\\Theta^Ty}{||\\Theta||}\\right|.\n",
    "$$"
   ]
  },
  {
   "cell_type": "markdown",
   "id": "8363bdaa-b8c6-4027-8a08-b200a9746b85",
   "metadata": {},
   "source": [
    "---\n",
    "Ovdje napišite svoj odgovor."
   ]
  },
  {
   "cell_type": "markdown",
   "id": "c00c4f77-bcb7-4227-a753-c31e1d8870f5",
   "metadata": {},
   "source": [
    "---\n",
    "## Zadatak 3 (10 bodova)\n",
    "Zadan je skup $\\{x^{(1)}, \\dots, x^{(m)}\\} \\subset \\mathbb{R}^n$ takav da je $x^{(i)} \\neq x^{(j)}$ za $i \\neq j$ i pripadne klase $\\{y^{(1)}, \\dots, y^{(m)}\\} \\in \\{-1, 1\\}$. Dokažite da postoje $k \\in \\mathbb{N}$ i funkcija $f : \\mathbb{R}^n \\to \\mathbb{R}^k$ takva da je skup $\\{f(x^{(1)}), \\dots, f(x^{(m)})\\} \\subset \\mathbb{R}^k$ linearno separabilan u $\\mathbb{R}^k$."
   ]
  },
  {
   "cell_type": "markdown",
   "id": "f3f9c5a1-b593-41d8-a55d-4f63a1591838",
   "metadata": {},
   "source": [
    "---\n",
    "[Cover](https://ieeexplore.ieee.org/document/4038449) je 1965. godine pokazao da ako skup točaka preslikamo nelinearnim preslikavanjem u veću dimenziju, vjerojatnost linearne separabilnosti je veća nego u prostoru niže dimenzije."
   ]
  },
  {
   "cell_type": "markdown",
   "id": "0222dc3e-f99b-4dc0-ad0a-58665534e9c0",
   "metadata": {},
   "source": [
    "---\n",
    "## Zadatak 4 (10 bodova)\n",
    " 1. Zadan je skup točaka $\\{(-1, 1), (1, 1), (2, 1), (-1, -1), (1, -1)$ i redom pripadne klase $\\{1, 1, -1, 1, -1\\}$. Odredite dvije hiperravnine, jednu koja točno klasificira dane podatke i jednu koja radi netočnu klasifikaciju. Grafički prikažite skup točaka i obje hiperravnine. Točke iz različitih klasa trebaju imati različite boje.\n",
    " 2. Pomoću perceptrona implementirajte logičke sklopove NAND, NOR i XNOR."
   ]
  },
  {
   "cell_type": "code",
   "execution_count": null,
   "id": "7c817c07-748d-4283-84c9-2270d8656062",
   "metadata": {},
   "outputs": [],
   "source": [
    "X = np.array([(-1, 1), (1, 1), (2, 1), (-1, -1), (1, -1)])\n",
    "y = np.array([1, 1, -1, 1, -1])"
   ]
  },
  {
   "cell_type": "code",
   "execution_count": null,
   "id": "915919b3-a35f-4dcf-97df-b85773d7538b",
   "metadata": {},
   "outputs": [],
   "source": [
    "theta = np.array([-0.5, 1, -1])\n",
    "xx = np.linspace(-3, 3, 1000)\n",
    "yy = -(theta[1] / theta[2]) * xx - (theta[0] / theta[2])\n",
    "\n",
    "plt.title(f'Točan perceptron model, hiperravnina zadana s {theta[0]} + {theta[1]}x_1 + {theta[2]}x_2 = 0')\n",
    "plt.xlabel('x_1')\n",
    "plt.ylabel('x_2')\n",
    "\n",
    "plt.scatter(X[:, 0], X[:, 1], c=y)\n",
    "plt.plot(xx, yy)\n",
    "plt.show()"
   ]
  },
  {
   "cell_type": "code",
   "execution_count": null,
   "id": "611d15ec-3f02-47cc-b3ca-3ff7fc900b9d",
   "metadata": {},
   "outputs": [],
   "source": [
    "theta = np.array([-1.5, 1, -1])\n",
    "xx = np.linspace(-3, 3, 1000)\n",
    "yy = -(theta[1] / theta[2]) * xx - (theta[0] / theta[2])\n",
    "\n",
    "plt.title(f'Netočan perceptron model, hiperravnina zadana s {theta[0]} + {theta[1]}x_1 + {theta[2]}x_2 = 0')\n",
    "plt.xlabel('x_1')\n",
    "plt.ylabel('x_2')\n",
    "\n",
    "plt.scatter(X[:, 0], X[:, 1], c=y)\n",
    "plt.plot(xx, yy)\n",
    "plt.show()"
   ]
  },
  {
   "cell_type": "markdown",
   "id": "9478619c-ac1d-4c5a-ba82-7db14da64623",
   "metadata": {},
   "source": [
    "### NAND"
   ]
  },
  {
   "cell_type": "code",
   "execution_count": null,
   "id": "6dfb95a9-b600-4fbb-85d2-5843a33455b9",
   "metadata": {},
   "outputs": [],
   "source": [
    "X = np.array([(0, 0), (1, 0), (0, 1), (1, 1)])\n",
    "y = np.array([1, 1, 1, 0])\n",
    "\n",
    "theta = np.array([1.5, -1, -1])\n",
    "xx = np.linspace(-2, 2, 1000)\n",
    "yy = -(theta[1] / theta[2]) * xx - (theta[0] / theta[2])\n",
    "\n",
    "plt.scatter(X[:, 0], X[:, 1], c=y)\n",
    "plt.plot(xx, yy)\n",
    "plt.show()"
   ]
  },
  {
   "cell_type": "markdown",
   "id": "14f8b248-0910-4460-a8c0-b9569194cab5",
   "metadata": {},
   "source": [
    "### NOR"
   ]
  },
  {
   "cell_type": "code",
   "execution_count": null,
   "id": "e79027e5-839a-4cd6-a77b-f41f3200fdff",
   "metadata": {},
   "outputs": [],
   "source": [
    "X = np.array([(0, 0), (1, 0), (0, 1), (1, 1)])\n",
    "y = np.array([1, 0, 0, 0])\n",
    "\n",
    "theta = np.array([0.5, -1, -1])\n",
    "xx = np.linspace(-2, 2, 1000)\n",
    "yy = -(theta[1] / theta[2]) * xx - (theta[0] / theta[2])\n",
    "\n",
    "plt.scatter(X[:, 0], X[:, 1], c=y)\n",
    "plt.plot(xx, yy)\n",
    "plt.show()"
   ]
  },
  {
   "cell_type": "markdown",
   "id": "bc3ce387-89de-49d5-a4ef-10c6e05f8342",
   "metadata": {},
   "source": [
    "### XNOR\n",
    "Skup točaka **nije linearno separabilan!**"
   ]
  },
  {
   "cell_type": "code",
   "execution_count": null,
   "id": "ce330cc5-3e44-454a-b9c2-8236d508c721",
   "metadata": {},
   "outputs": [],
   "source": [
    "X = np.array([(0, 0), (1, 0), (0, 1), (1, 1)])\n",
    "y = np.array([1, 0, 0, 1])\n",
    "\n",
    "plt.scatter(X[:, 0], X[:, 1], c=y)\n",
    "plt.show()"
   ]
  },
  {
   "cell_type": "markdown",
   "id": "d922fa00-8d55-4342-9ee2-23b1b83c849a",
   "metadata": {},
   "source": [
    "---\n",
    "## Zadatak 5 (15 bodova)\n",
    "Implementirajte perceptron algoritam koji rješava problem binarne klasifikacije (ne nužno hiperravninom koja prolazi kroz ishodište). Točku $x \\in \\mathbb{R}^n$ u nastavku možete prikazivati kao $x = (x_0, x_1, \\dots, x_n)^T \\in \\mathbb{R}^{n+1}$, gdje je $x_0 = 1$.\n",
    "\n",
    "Vaši zadaci su sljedeći:\n",
    " 1. Implementirajte perceptron algoritam koji na ulazu prima podatke $X \\in \\mathbb{R}^{m \\times (n+1)}$, klase $y \\in \\{-1, 1\\}^m$ i maksimalan broj iteracija *max_iter* te vraća uređen par $(\\Theta, k)$, gdje je $\\Theta \\in \\mathbb{R}^{n+1}$ vektor koji definira hiperravninu, a $k$ broj iteracija potreban za konvergenciju.\n",
    " 2. Implementirajte funkciju *accuracy*, koja za dane podatke $X$ i klase $y$ računa udio točaka koje je perceptron točno klasificirao. Preporučam da funkcije iz ovog i prethodnog podzadatka enkapsulirate u klasu.\n",
    " 3. Učitajte skupove podataka *A.csv*, *B.csv* i *C.csv*. U prva dva stupca se nalaze koordinate točaka $x$, dok su u zadnjem stupcu oznake klasa. Na svakom od skupova pokrenite perceptron algoritam i ispišite dobivene vrijednosti $\\Theta$ i $k$. Uvjerite se da su podaci točno (ili netočno) klasificirani koristeći funkciju iz podzadatka 2.\n",
    " 4. Grafički prikažite sva tri skupa podataka i pripadne hiperravnine $\\Theta{}^Tx = 0$. Podaci iz različitih klasa trebaju imati različite boje. \n",
    " 5. Izračunajte vrijednosti geometrijskih margina $\\gamma_{\\textrm{geom}}$ za sva tri skupa podataka. Argumentirajte zašto je teže klasificirati točke iz skupa B nego točke iz skupa A."
   ]
  },
  {
   "cell_type": "markdown",
   "id": "e51808ae-cca7-4780-8a2d-802935626d42",
   "metadata": {},
   "source": [
    "### 1. i 2. podzadatak"
   ]
  },
  {
   "cell_type": "code",
   "execution_count": null,
   "id": "ef586366-9c0e-40c2-9fdf-85ca1282ba11",
   "metadata": {},
   "outputs": [],
   "source": [
    "class Perceptron:\n",
    "    def __init__(self):\n",
    "        self.theta = None\n",
    "        self.k_total = None\n",
    "        \n",
    "    def fit(self, X, y, max_iter=100000):       \n",
    "        m = X.shape[0]\n",
    "        n = X.shape[1] + 1\n",
    "        self.theta = np.zeros(n)\n",
    "        \n",
    "        X = np.concatenate((np.ones((m, 1)), X), axis=1)\n",
    "        self.k_total = 0\n",
    "        while self.k_total < max_iter:\n",
    "            k = 0\n",
    "            for i in range(m):\n",
    "                if y[i] != np.sign(np.dot(self.theta, X[i])):\n",
    "                    k += 1\n",
    "                    self.theta += (y[i] * X[i])\n",
    "            self.k_total += k\n",
    "            if k == 0:\n",
    "                break\n",
    "                \n",
    "    def accuracy(self, X, y):\n",
    "        m = X.shape[0]\n",
    "        cnt = 0\n",
    "        X = np.concatenate((np.ones((m, 1)), X), axis=1)\n",
    "        for i in range(m):\n",
    "            if y[i] == np.sign(np.dot(self.theta, X[i])):\n",
    "                cnt += 1\n",
    "        return cnt / m\n",
    "    \n",
    "    def draw(self, X, y, hyperplane=False):\n",
    "        assert (X.shape[1] == 2)\n",
    "        assert (hyperplane == False or self.theta is not None)\n",
    "        plt.scatter(X[:, 0], X[:, 1], c=y)\n",
    "        if hyperplane:\n",
    "            xx = np.linspace(np.min(X[:, 0]), np.max(X[:, 0]), 1000)\n",
    "            yy = -(self.theta[1] / self.theta[2]) * xx - (self.theta[0] / self.theta[2])\n",
    "            plt.plot(xx, yy)\n",
    "        plt.show()"
   ]
  },
  {
   "cell_type": "markdown",
   "id": "4ba306e7-6e50-40c4-8931-bf80879e8743",
   "metadata": {},
   "source": [
    "### 3. podzadatak"
   ]
  },
  {
   "cell_type": "code",
   "execution_count": null,
   "id": "3c4e3dcd-c8ee-444d-89eb-925bff989619",
   "metadata": {},
   "outputs": [],
   "source": [
    "a_df = pd.read_csv('./Podaci/A.csv')\n",
    "X_a = a_df[['x1', 'x2']].to_numpy()\n",
    "y_a = a_df['y'].to_numpy()\n",
    "\n",
    "p_a = Perceptron()\n",
    "p_a.fit(X_a, y_a)\n",
    "p_a.theta, p_a.k_total, p_a.accuracy(X_a, y_a)"
   ]
  },
  {
   "cell_type": "code",
   "execution_count": null,
   "id": "35cce9ff-4a75-4840-948d-39aba6dda13f",
   "metadata": {},
   "outputs": [],
   "source": [
    "b_df = pd.read_csv('./Podaci/B.csv')\n",
    "X_b = b_df[['x1', 'x2']].to_numpy()\n",
    "y_b = b_df['y'].to_numpy()\n",
    "\n",
    "p_b = Perceptron()\n",
    "p_b.fit(X_b, y_b)\n",
    "p_b.theta, p_b.k_total, p_b.accuracy(X_b, y_b)"
   ]
  },
  {
   "cell_type": "code",
   "execution_count": null,
   "id": "c0710176-b4a7-4ec1-a23a-4bd9e1b9e6da",
   "metadata": {},
   "outputs": [],
   "source": [
    "c_df = pd.read_csv('./Podaci/C.csv')\n",
    "X_c = c_df[['x1', 'x2']].to_numpy()\n",
    "y_c = c_df['y'].to_numpy()\n",
    "\n",
    "p_c = Perceptron()\n",
    "p_c.fit(X_c, y_c)\n",
    "p_c.theta, p_c.k_total, p_c.accuracy(X_c, y_c)"
   ]
  },
  {
   "cell_type": "markdown",
   "id": "2f05e521-f4c8-4087-bb1d-746430f56c19",
   "metadata": {},
   "source": [
    "### 4. podzadatak"
   ]
  },
  {
   "cell_type": "code",
   "execution_count": null,
   "id": "d2abaa76-b1b2-4925-be01-e5b5b4a6e660",
   "metadata": {},
   "outputs": [],
   "source": [
    "p_a.draw(X_a, y_a, hyperplane=True)"
   ]
  },
  {
   "cell_type": "code",
   "execution_count": null,
   "id": "dc3774a3-b6e7-435a-8137-e6e711a39e6f",
   "metadata": {},
   "outputs": [],
   "source": [
    "p_b.draw(X_b, y_b, hyperplane=True)"
   ]
  },
  {
   "cell_type": "code",
   "execution_count": null,
   "id": "5c2b19d0-4946-4f2b-854a-48d97369add0",
   "metadata": {},
   "outputs": [],
   "source": [
    "p_c.draw(X_c, y_c, hyperplane=True)"
   ]
  },
  {
   "cell_type": "markdown",
   "id": "c60976d6-fdd0-47d6-9ed8-cac29101f657",
   "metadata": {},
   "source": [
    "### 5. podzadatak"
   ]
  },
  {
   "cell_type": "code",
   "execution_count": null,
   "id": "728d8105-9266-4351-ae5f-6118fbd288ab",
   "metadata": {},
   "outputs": [],
   "source": [
    "def dist(x, theta):\n",
    "    \"\"\"Udaljenost tocke x od hiperravnine zadane parametrom theta\n",
    "    x.shape = (n,)\n",
    "    theta.shape = (n+1,)\n",
    "    \"\"\"\n",
    "    return abs(np.dot(x, theta[1:]) + theta[0]) / np.linalg.norm(theta[1:])\n",
    "\n",
    "gama_a = min([dist(x, p_a.theta) for x in X_a])\n",
    "gama_b = min([dist(x, p_a.theta) for x in X_b])\n",
    "gama_a, gama_b"
   ]
  },
  {
   "cell_type": "markdown",
   "id": "9f2cdc5d-0311-4108-b734-129629d9304e",
   "metadata": {},
   "source": [
    "---\n",
    "## Zadatak 6 (5 bodova)\n",
    "Za klasifikaciju točaka iz $\\mathbb{R}^2$ perceptron algoritam iz zadatka 5 nadogradite tako da u svakoj iteraciji algoritma vizualizirate točke i klasificirajući pravac. Točke iz različitih klasa trebaju imati različite boje, točno klasificirane točke s znakom '+', a netočno s '-'.\n",
    "\n",
    "Koristeći funkciju [sklearn.datasets.make_blobs](https://scikit-learn.org/stable/modules/generated/sklearn.datasets.make_blobs.html) generirajte linearno separabilan skup od 150 točaka i pokrenite nadograđeni perceptron algoritam. "
   ]
  },
  {
   "cell_type": "code",
   "execution_count": null,
   "id": "4ca810fc-2f4e-4412-8bd2-4c25bf18e518",
   "metadata": {},
   "outputs": [],
   "source": [
    "class PerceptronWithPictures:\n",
    "    def __init__(self):\n",
    "        self.theta = None\n",
    "        self.k_total = None\n",
    "        \n",
    "    def fit(self, X, y, max_iter=100000):       \n",
    "        m = X.shape[0]\n",
    "        n = X.shape[1] + 1\n",
    "        assert (X.shape[1] == 2)\n",
    "        self.theta = np.zeros(n)\n",
    "        \n",
    "        X = np.concatenate((np.ones((m, 1)), X), axis=1)\n",
    "        self.k_total = 0\n",
    "        while self.k_total < max_iter:\n",
    "            k = 0\n",
    "            for i in range(m):\n",
    "                if y[i] != np.sign(np.dot(self.theta, X[i])):\n",
    "                    k += 1\n",
    "                    self.theta += (y[i] * X[i])\n",
    "                    plt.title(f'Iteracija {self.k_total + k}')\n",
    "                    self.draw(X[:, 1:], y, hyperplane=True)\n",
    "            self.k_total += k\n",
    "            if k == 0:\n",
    "                break\n",
    "                \n",
    "    def accuracy(self, X, y):\n",
    "        m = X.shape[0]\n",
    "        cnt = 0\n",
    "        X = np.concatenate((np.ones((m, 1)), X), axis=1)\n",
    "        for i in range(m):\n",
    "            if y[i] == np.sign(np.dot(self.theta, X[i])):\n",
    "                cnt += 1\n",
    "        return cnt / m\n",
    "    \n",
    "    def draw(self, X, y, hyperplane=False):\n",
    "        assert (X.shape[1] == 2)\n",
    "        assert (hyperplane == False or self.theta is not None)\n",
    "        plt.scatter(X[:, 0], X[:, 1], c=y)\n",
    "        if hyperplane:\n",
    "            xx = np.linspace(np.min(X[:, 0]), np.max(X[:, 0]), 1000)\n",
    "            yy = -(self.theta[1] / self.theta[2]) * xx - (self.theta[0] / self.theta[2])\n",
    "            plt.plot(xx, yy)\n",
    "        plt.show()"
   ]
  },
  {
   "cell_type": "code",
   "execution_count": null,
   "id": "df88fae5-b5f4-4d0d-a4f8-7eecc847d36c",
   "metadata": {},
   "outputs": [],
   "source": [
    "X, y = make_blobs(n_samples=150, centers=[(2, 2), (-2, -2)], n_features=2, random_state=1)\n",
    "y[y==0] = -1\n",
    "plt.scatter(X[:, 0], X[:, 1], c=y) \n",
    "plt.show()"
   ]
  },
  {
   "cell_type": "code",
   "execution_count": null,
   "id": "d1d69b37-7564-4718-8678-42318870fd3f",
   "metadata": {},
   "outputs": [],
   "source": [
    "p_draw = PerceptronWithPictures()\n",
    "p_draw.fit(X_b, y_b)"
   ]
  },
  {
   "cell_type": "markdown",
   "id": "d6ab57ee-44de-42a6-be94-d23e61aa4462",
   "metadata": {},
   "source": [
    "---\n",
    "## Zadatak 7 (10 bodova)"
   ]
  },
  {
   "cell_type": "markdown",
   "id": "e9b8f5cd-8510-4b4a-b0d7-7df239796ba2",
   "metadata": {},
   "source": [
    "U datoteci *nonlinsep.csv* zadan je linearno neseparabilan skup podataka iz $\\mathbb{R}^2$ (u istom formatu kao prethodni skupovi podataka).\n",
    "\n",
    "1. Proučite strukturu podataka i opišite kakvom funkcijom je moguće napraviti točnu klasifikaciju.\n",
    "2. Transformirajte podatke tako da ih je moguće klasificirati primjenom perceptrona. Pokrenite perceptron algoritam na te podatke i ispišite dobiveni $\\Theta$."
   ]
  },
  {
   "cell_type": "code",
   "execution_count": null,
   "id": "1735f983-af4f-4db3-92eb-e5d87dfa5399",
   "metadata": {},
   "outputs": [],
   "source": [
    "nls_df = pd.read_csv('./Podaci/nonlinsep.csv')\n",
    "X_nls = nls_df[['x1', 'x2']].to_numpy()\n",
    "y_nls = nls_df['y'].to_numpy()\n",
    "\n",
    "plt.scatter(X_nls[:, 0], X_nls[:, 1], c=y_nls)\n",
    "plt.show()"
   ]
  },
  {
   "cell_type": "markdown",
   "id": "0a49d019-b542-4549-b249-1ef15d0e2bbe",
   "metadata": {},
   "source": [
    "Očito nekakva kružnica separira podatke. Jedna klasifikacijska funkcija može glasiti \n",
    "$$\n",
    "h(x) = x_1^2 + x_2^2 - \\left(\\frac{1}{4}\\right)^2.\n",
    "$$"
   ]
  },
  {
   "cell_type": "code",
   "execution_count": null,
   "id": "86f3b481-f4b7-45cd-8620-ef76a0bcadf3",
   "metadata": {},
   "outputs": [],
   "source": [
    "m = X_nls.shape[0]\n",
    "X_nls_tr = np.empty((m, 3))\n",
    "for i in range(m):\n",
    "    X_nls_tr[i, :2] = X_nls[i]\n",
    "    X_nls_tr[i, 2] = np.sum(np.square(X_nls[i]))"
   ]
  },
  {
   "cell_type": "code",
   "execution_count": null,
   "id": "079aac64-0481-4d14-8776-285fbcb4849f",
   "metadata": {},
   "outputs": [],
   "source": [
    "p_nls = Perceptron()\n",
    "p_nls.fit(X_nls_tr, y_nls)\n",
    "p_nls.accuracy(X_nls_tr, y_nls)"
   ]
  },
  {
   "cell_type": "code",
   "execution_count": null,
   "id": "f767b657-fc48-4968-9ff4-826d99d93755",
   "metadata": {},
   "outputs": [],
   "source": [
    "fig = plt.figure()\n",
    "ax = fig.add_subplot(projection='3d')\n",
    "\n",
    "# for i in range(m):\n",
    "#     ax.scatter(X_nls_tr[i, 0], X_nls_tr[i, 1], X_nls_tr[i, 2])\n",
    "ax.scatter(X_nls_tr[:, 0], X_nls_tr[:, 1], X_nls_tr[:, 2], c=y_nls)\n",
    "plt.show()"
   ]
  }
 ],
 "metadata": {
  "kernelspec": {
   "display_name": "Python 3 (ipykernel)",
   "language": "python",
   "name": "python3"
  },
  "language_info": {
   "codemirror_mode": {
    "name": "ipython",
    "version": 3
   },
   "file_extension": ".py",
   "mimetype": "text/x-python",
   "name": "python",
   "nbconvert_exporter": "python",
   "pygments_lexer": "ipython3",
   "version": "3.9.7"
  }
 },
 "nbformat": 4,
 "nbformat_minor": 5
}
