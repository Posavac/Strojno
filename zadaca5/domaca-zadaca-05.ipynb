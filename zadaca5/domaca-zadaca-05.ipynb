{
 "cells": [
  {
   "cell_type": "markdown",
   "id": "22666dbe-b868-41ba-b753-8ef8b50d5482",
   "metadata": {},
   "source": [
    "# Domaća zadaća 5\n",
    "#### Rok za predaju: 12. travnja. 2022. u 23:59h\n",
    "Zadaću trebate riješiti tako da u Teams assignment priložite bilježnicu s rješenjima ili postavite poveznicu na Google Colab bilježnicu.\n",
    "\n",
    "Pokušajte matematičke izrate napisati u $\\LaTeX$-u. Ako budete imali problema, napišite rješenje na papiru i dodajte sliku u Markdown ćeliju.\n",
    "\n",
    "Kao $\\LaTeX$ referencu možete koristiti knjigu [Ne baš tako kratak uvod u TEX](http://www.mathos.unios.hr/images/uploads/798.pdf). Za Markdown pogledajte [Markdown cheatsheet](https://enterprise.github.com/downloads/en/markdown-cheatsheet.pdf)."
   ]
  },
  {
   "cell_type": "code",
   "execution_count": null,
   "id": "155e2e0a-100f-4bc2-a15e-eaca92a7f9f2",
   "metadata": {},
   "outputs": [],
   "source": [
    "import numpy as np\n",
    "import matplotlib.pyplot as plt\n",
    "import pandas as pd\n",
    "\n",
    "# Ovdje učitajte dodatne biblioteke koje budete koristili"
   ]
  },
  {
   "cell_type": "markdown",
   "id": "30e65e60-e150-4d7f-bd5d-9f03b0cbf2b8",
   "metadata": {},
   "source": [
    "---\n",
    "## Zadatak 1 (25 bodova)\n",
    "Zadani su podaci $X\\in \\mathbb{R}^{m\\times n}$ i pripadne izlazne vrijednosti $y \\in \\mathbb{R}^{m}$ koje označavaju pripadnost jednoj od klasa $0, 1, \\dots, k-1$. Na ovim podacima možemo provesti proces učenja klasifikacijskog modela.\n",
    "\n",
    "Umjesto logističke regresije s OvO strategijom, u ovom zadatku ćemo koristiti *softmax* funkciju s regularizacijom.\n",
    "\n",
    "Učenje se svodi na minimizaciju funkcije \n",
    "$$\n",
    "J(\\Theta) = - \\sum\\limits_{i=1}^{m} \\sum\\limits_{j=1}^{k} I^{j}(y^{(i)})\\log{\\frac{\\exp{(\\Theta^{(j)^T}x^{(i)}})}{\\sum\\limits_{l=1}^{k}\\exp{(\\Theta^{(l)^{T}}x^{(i)}})}} + \\lambda||\\Theta||_F,\n",
    "$$\n",
    "gdje je $||\\cdot||_F$ [Frobeniusova norma](https://mathworld.wolfram.com/FrobeniusNorm.html).\n",
    "\n",
    "Vaši zadaci su sljedeći:\n",
    " 1. Implementirajte gradijentnu metodu za slučaj softmax regresije. Funkcija koja pokreće gradijentnu metodu kao argumente treba primati podatke $X$, oznake $y$, stopu učenja $\\alpha$, regularizacijski koeficijent $\\lambda$ i broj iteracija metode.\n",
    " 2. Učitajte podatke iz datoteke `mobiteli.csv` s prošlih vježbi (i zadaće). Kao izlaz uzmite varijablu `price_range`, a kao ulaz neki podskup ostalih varijabli. Razdvojite podatke tako da skup za treniranje sadrži $80\\%$ podataka, a skup za testiranje ostatak.\n",
    " 3. Natrenirajte klasifikacijski model primjenom implementirane softmax regresije.\n",
    " 4. Iskoristite neke od metrika definiranih na vježbama kako biste evaluirali model (na testnom skupu) i ispišite pripadnu matricu zabune.\n",
    " 5. Usporedite dobiveni rezultat s [LogisticRegression](https://scikit-learn.org/stable/modules/generated/sklearn.linear_model.LogisticRegression.html) s parametrom `multi_class='multinomial'` iz scikit-learn biblioteke. "
   ]
  },
  {
   "cell_type": "code",
   "execution_count": null,
   "id": "d6a7d003-acc1-4c5d-a7dd-f4b9d58765eb",
   "metadata": {},
   "outputs": [],
   "source": [
    "# Ćelija za rješenje"
   ]
  },
  {
   "cell_type": "markdown",
   "id": "638410b4-ff6e-42f8-9b1a-6150eb8ac0f9",
   "metadata": {},
   "source": [
    "---\n",
    "## Zadatak 2 (25 bodova) \n",
    "Trgovački lanac se susreće s problemom da isti proizvodi budu različito kategorizirani u poslovnicama po svijetu. \n",
    "\n",
    "Kako bi riješili problem, skupili su podatke o proizvodima tako da su svaki podatak opisali pomoću $93$ različite varijable i ručno označili kojoj klasi pripada. \n",
    "\n",
    "Vaš cilj je na temelju tih podataka razviti model koji će uspješeno kategorizirati nove proizvode. \n",
    "\n",
    "Priložena je datoteka `products_train.csv` sa podacima za učenje i podacima za testiranje.\n",
    "\n",
    "Podaci sadrže prvi stupac - ID, a nakon toga $93$ stupca sa značajkama.\n",
    "\n",
    "Implementacija je proizvoljna, uz uvjet da ne koristite gotove implementacije klasifikacijskih algoritama iz scikit-learn ili nekog drugog librarya. Preporučam da dani skup razdvojite na skupove za treniranje, validaciju i testiranje kako biste mogli zaključiti nešto o kvaliteti modela.\n",
    "\n",
    "Dodatno je priložena datoteka `products_test.csv` koja za razliku od prve datoteke ne sadrži stupac sa oznakama klasa. Nakon što ste napravili svoj model pokrenite ga na tom skupu podataka, a dobivene predikcije spremite u `results.csv` i priložite rješenju zadaće.\n",
    "\n",
    "Datoteku s rezultatima priložite u csv formatu, tako da se u jedinom retku nalazi niz predviđenih klasa. \n",
    "\n",
    "Na predikcijama ćemo računati točnost vašeg modela i napraviti rang-ljestvicu."
   ]
  },
  {
   "cell_type": "code",
   "execution_count": null,
   "id": "7bc48bfe-9aef-4bae-b4c4-16fe7c1d7425",
   "metadata": {},
   "outputs": [],
   "source": [
    "# Ćelija za rješenje"
   ]
  },
  {
   "cell_type": "markdown",
   "id": "bb32ae12-aa19-4fab-964a-29394ce0f127",
   "metadata": {},
   "source": [
    "---\n",
    "## Zadatak 3 - early stopping (10 bodova)\n",
    "Bez korištenja neke vrste validacije teško je odrediti u kojem trenutku treniranje kreće prema overfitanju jer gubitke i metrike računamo samo na skupu za treniranje.\n",
    "\n",
    "Uvođenjem validacijskog skupa nakon svake iteracije optimizacijskog algoritma možemo usporediti gubitak na skupu za treniranje u skupu za validaciju. \n",
    "\n",
    "Ukoliko gubitak na skupu za treniranju pada, a na validacijskom skupu raste ili stagnira, najbolji odabir je ili nekako modificirati optimizacijski algoritam, ili **zaustaviti treniranje**.\n",
    "\n",
    "Vaš zadatak je sljedeći:\n",
    " 1. Nadogradite Implementaciju iz 2. zadatka tako da primijenite early stopping strategiju. Učenje trebate zaustaviti ako se vrijednost funkcije cilja na validacijskom skupu nije smanjila u zadnjih `early_stopping_count` (npr. 5) iteracija. Potrebno je vratiti parametre modela nakon iteracije u kojoj je postignuta minimalna vrijednost funkcije cilja na validacijskom skupu.\n",
    " 2. Natrenirajte model na istom skupu iz 2. zadatka, ali ga prvo razdvojite na skup za treniranje i validaciju.\n",
    " 3. Ako mislite da ste dobili kvalitetnije rezultate, priložite predikcije dobivene ovim modelom."
   ]
  },
  {
   "cell_type": "code",
   "execution_count": 1,
   "id": "9e1298c2-7ffd-404f-8ce2-4c5d332ef39f",
   "metadata": {},
   "outputs": [],
   "source": [
    "# Ćelija za rješenje"
   ]
  }
 ],
 "metadata": {
  "kernelspec": {
   "display_name": "Python 3 (ipykernel)",
   "language": "python",
   "name": "python3"
  },
  "language_info": {
   "codemirror_mode": {
    "name": "ipython",
    "version": 3
   },
   "file_extension": ".py",
   "mimetype": "text/x-python",
   "name": "python",
   "nbconvert_exporter": "python",
   "pygments_lexer": "ipython3",
   "version": "3.9.2"
  }
 },
 "nbformat": 4,
 "nbformat_minor": 5
}
